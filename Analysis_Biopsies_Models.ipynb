{
 "cells": [
  {
   "cell_type": "code",
   "execution_count": 2,
   "metadata": {},
   "outputs": [
    {
     "name": "stderr",
     "output_type": "stream",
     "text": [
      "cobra/io/sbml.py:235 \u001b[1;31mUserWarning\u001b[0m: M_h_x appears as a reactant and product FAOXC220200x\n"
     ]
    }
   ],
   "source": [
    "import cobra\n",
    "Recon2 = cobra.io.read_sbml_model(\"Models/recon2.2.xml\")\n"
   ]
  },
  {
   "cell_type": "code",
   "execution_count": 3,
   "metadata": {
    "collapsed": true
   },
   "outputs": [],
   "source": [
    "Recon2.reactions.OIVD3m.gene_reaction_rule='HGNC:2698 and HGNC:987 and HGNC:986 and HGNC:2898 or HGNC:2698 and HGNC:2898 and HGNC:987 and HGNC:986'\n",
    "Recon2.reactions.OIVD1m.gene_reaction_rule='HGNC:2698 and HGNC:987 and HGNC:986 and HGNC:2898 or HGNC:2698 and HGNC:2898 and HGNC:987 and HGNC:986'\n",
    "Recon2.reactions.OIVD2m.gene_reaction_rule='HGNC:2698 and HGNC:987 and HGNC:986 and HGNC:2898 or HGNC:2698 and HGNC:2898 and HGNC:987 and HGNC:986'"
   ]
  },
  {
   "cell_type": "code",
   "execution_count": 4,
   "metadata": {},
   "outputs": [
    {
     "name": "stdout",
     "output_type": "stream",
     "text": [
      "Reactions: 7785\n",
      "Metabolites: 5324\n",
      "<Solution 555.786 at 0x7fbadfdbe780>\n"
     ]
    }
   ],
   "source": [
    "print(\"Reactions:\", len(Recon2.reactions))\n",
    "print(\"Metabolites:\", len(Recon2.metabolites))\n",
    "print(Recon2.optimize())"
   ]
  },
  {
   "cell_type": "code",
   "execution_count": 5,
   "metadata": {},
   "outputs": [
    {
     "name": "stdout",
     "output_type": "stream",
     "text": [
      "0.014 biomass_DNA_c + 0.058 biomass_RNA_c + 0.071 biomass_carbohydrate_c + 0.097 biomass_lipid_c + 0.054 biomass_other_c + 0.706 biomass_protein_c --> \n",
      "{'GENE ASSOCIATION': ['']}\n"
     ]
    }
   ],
   "source": [
    "bm = Recon2.reactions.get_by_id(\"biomass_reaction\")\n",
    "print(bm.build_reaction_string())\n",
    "print(bm.notes)"
   ]
  },
  {
   "cell_type": "code",
   "execution_count": 6,
   "metadata": {},
   "outputs": [
    {
     "data": {
      "text/plain": [
       "<Solution 555.786 at 0x7fbadfb810b8>"
      ]
     },
     "execution_count": 6,
     "metadata": {},
     "output_type": "execute_result"
    }
   ],
   "source": [
    "Recon2.optimize()"
   ]
  },
  {
   "cell_type": "code",
   "execution_count": 7,
   "metadata": {
    "collapsed": true
   },
   "outputs": [],
   "source": [
    "for rxex in Recon2.exchanges:\n",
    "    rxex.bounds=(-0.01,10)\n",
    "\n",
    "### Western Diet\n",
    "#### Sugars\n",
    "Recon2.reactions.get_by_id(\"EX_arab_L_LPAREN_e_RPAREN_\").lower_bound=-0.17878295 \n",
    "#Cellobiose not in Humana\n",
    "#Recon2.reactions.get_by_id(\"EX_drib_LPAREN_e_RPAREN_\").lower_bound=-0.17878295 #????\n",
    "Recon2.reactions.get_by_id(\"EX_fru_LPAREN_e_RPAREN_\").lower_bound=-0.14898579\n",
    "Recon2.reactions.get_by_id(\"EX_fuc_L_LPAREN_e_RPAREN_\").lower_bound=-0.14898579 \n",
    "Recon2.reactions.get_by_id(\"EX_gal_LPAREN_e_RPAREN_\").lower_bound=-0.14898579 \n",
    "Recon2.reactions.get_by_id(\"EX_glc_LPAREN_e_RPAREN_\").lower_bound=-0.14898579\n",
    "#Falta Ex_glcn en Recon2.2\n",
    "Recon2.reactions.get_by_id(\"EX_lcts_LPAREN_e_RPAREN_\").lower_bound=-0.07449289 \n",
    "Recon2.reactions.get_by_id(\"EX_malt_LPAREN_e_RPAREN_\").lower_bound=-0.07449289 \n",
    "Recon2.reactions.get_by_id(\"EX_man_LPAREN_e_RPAREN_\").lower_bound=-0.14898579 \n",
    "#Melibiose  not in Human\n",
    "#D-Mannitol not in Human\n",
    "Recon2.reactions.get_by_id(\"EX_oxa_LPAREN_e_RPAREN_\").lower_bound=-0.44695737 \n",
    "Recon2.reactions.get_by_id(\"EX_rib_D_LPAREN_e_RPAREN_\").lower_bound=-0.17878295 \n",
    "#L-Rhamnose not in Human\n",
    "Recon2.reactions.get_by_id(\"EX_sucr_LPAREN_e_RPAREN_\").lower_bound=-0.07449289 \n",
    "\n",
    "#Estos no estan en sangre\n",
    "#Recon2.reactions.get_by_id(\"EX_tre_LPAREN_e_RPAREN_\").lower_bound=-0.07449289 \n",
    "#Recon2.reactions.get_by_id(\"EX_xyl_D_LPAREN_e_RPAREN_\").lower_bound=-0.17878295\n",
    "#Recon2.reactions.get_by_id(\"EX_strch1_LPAREN_e_RPAREN_\").lower_bound=-0.25733909 \n",
    "\n",
    "#fiber not in human\n",
    "\n",
    "### Western Diet\n",
    "#### Fat\n",
    "Recon2.reactions.get_by_id(\"EX_arachd_LPAREN_e_RPAREN_\").lower_bound=-0.00332813 \n",
    "Recon2.reactions.get_by_id(\"EX_chsterol_LPAREN_e_RPAREN_\").lower_bound=-0.00495795\n",
    "Recon2.reactions.get_by_id(\"EX_glyc_LPAREN_e_RPAREN_\").lower_bound=-1.79965486 \n",
    "Recon2.reactions.get_by_id(\"EX_hdca_LPAREN_e_RPAREN_\").lower_bound=-0.39637090\n",
    "Recon2.reactions.get_by_id(\"EX_hdcea_LPAREN_e_RPAREN_\").lower_bound=-0.03651697\n",
    "Recon2.reactions.get_by_id(\"EX_lnlc_LPAREN_e_RPAREN_\").lower_bound=-0.35910921\n",
    "Recon2.reactions.get_by_id(\"EX_lnlnca_LPAREN_e_RPAREN_\").lower_bound=-0.01756512\n",
    "Recon2.reactions.get_by_id(\"EX_lnlncg_LPAREN_e_RPAREN_\").lower_bound=-0.01756512\n",
    "Recon2.reactions.get_by_id(\"EX_ocdca_LPAREN_e_RPAREN_\").lower_bound=-0.16928260\n",
    "Recon2.reactions.get_by_id(\"EX_ocdcea_LPAREN_e_RPAREN_\").lower_bound=-0.68144465\n",
    "#No en sangre\n",
    "#Recon2.reactions.get_by_id(\"EX_octa_LPAREN_e_RPAREN_\").lower_bound=-0.01294272\n",
    "#Recon2.reactions.get_by_id(\"EX_ttdca_LPAREN_e_RPAREN_\").lower_bound=-0.06867567\n",
    "\n",
    "### Western Diet\n",
    "#### Protein\n",
    "Recon2.reactions.get_by_id(\"EX_ala_L_LPAREN_e_RPAREN_\").lower_bound=-1\n",
    "Recon2.reactions.get_by_id(\"EX_arg_L_LPAREN_e_RPAREN_\").lower_bound=-0.15\n",
    "Recon2.reactions.get_by_id(\"EX_asn_L_LPAREN_e_RPAREN_\").lower_bound=-0.225\n",
    "Recon2.reactions.get_by_id(\"EX_asp_L_LPAREN_e_RPAREN_\").lower_bound=-0.225\n",
    "Recon2.reactions.get_by_id(\"EX_cys_L_LPAREN_e_RPAREN_\").lower_bound=-1\n",
    "Recon2.reactions.get_by_id(\"EX_gln_L_LPAREN_e_RPAREN_\").lower_bound=-0.18\n",
    "Recon2.reactions.get_by_id(\"EX_glu_L_LPAREN_e_RPAREN_\").lower_bound=-0.18\n",
    "Recon2.reactions.get_by_id(\"EX_gly_LPAREN_e_RPAREN_\").lower_bound=-0.45\n",
    "Recon2.reactions.get_by_id(\"EX_his_L_LPAREN_e_RPAREN_\").lower_bound=-0.15\n",
    "Recon2.reactions.get_by_id(\"EX_ile_L_LPAREN_e_RPAREN_\").lower_bound=-0.15\n",
    "Recon2.reactions.get_by_id(\"EX_leu_L_LPAREN_e_RPAREN_\").lower_bound=-0.15\n",
    "Recon2.reactions.get_by_id(\"EX_lys_L_LPAREN_e_RPAREN_\").lower_bound=-0.15 \n",
    "Recon2.reactions.get_by_id(\"EX_met_L_LPAREN_e_RPAREN_\").lower_bound=-0.18\n",
    "Recon2.reactions.get_by_id(\"EX_phe_L_LPAREN_e_RPAREN_\").lower_bound=-1\n",
    "Recon2.reactions.get_by_id(\"EX_pro_L_LPAREN_e_RPAREN_\").lower_bound=-0.18\n",
    "Recon2.reactions.get_by_id(\"EX_ser_L_LPAREN_e_RPAREN_\").lower_bound=-1\n",
    "Recon2.reactions.get_by_id(\"EX_thr_L_LPAREN_e_RPAREN_\").lower_bound=-0.225\n",
    "Recon2.reactions.get_by_id(\"EX_trp_L_LPAREN_e_RPAREN_\").lower_bound=-0.08181818\n",
    "Recon2.reactions.get_by_id(\"EX_tyr_L_LPAREN_e_RPAREN_\").lower_bound=-1\n",
    "Recon2.reactions.get_by_id(\"EX_val_L_LPAREN_e_RPAREN_\").lower_bound=-0.18\n",
    "\n",
    "\n",
    "### Western Diet\n",
    "#### Minterals, Vitamins, others\n",
    "\n",
    "#12dgr180\n",
    "#26dap_M\n",
    "#2dmmq8\n",
    "#2obut\n",
    "Recon2.reactions.get_by_id(\"EX_3mop_LPAREN_e_RPAREN_\").lower_bound=-1\n",
    "#4abz\n",
    "#4hbz\n",
    "Recon2.reactions.get_by_id(\"EX_ac_LPAREN_e_RPAREN_\").lower_bound=-1\n",
    "Recon2.reactions.get_by_id(\"EX_acgam_LPAREN_e_RPAREN_\").lower_bound=-1\n",
    "#No en sangre acmana\n",
    "#Recon2.reactions.get_by_id(\"EX_acmana_LPAREN_e_RPAREN_\").lower_bound=-1\n",
    "#acnam\n",
    "Recon2.reactions.get_by_id(\"EX_ade_LPAREN_e_RPAREN_\").lower_bound=-1\n",
    "Recon2.reactions.get_by_id(\"EX_adn_LPAREN_e_RPAREN_\").lower_bound=-1\n",
    "#adocbl\n",
    "Recon2.reactions.get_by_id(\"EX_ala_D_LPAREN_e_RPAREN_\").lower_bound=-1\n",
    "Recon2.reactions.get_by_id(\"EX_amp_LPAREN_e_RPAREN_\").lower_bound=-1\n",
    "#arab_D\n",
    "#No en sangre btn\n",
    "#Recon2.reactions.get_by_id(\"EX_btn_LPAREN_e_RPAREN_\").lower_bound=-1\n",
    "Recon2.reactions.get_by_id(\"EX_ca2_LPAREN_e_RPAREN_\").lower_bound=-1\n",
    "#cbl1\n",
    "Recon2.reactions.get_by_id(\"EX_cgly_LPAREN_e_RPAREN_\").lower_bound=-1\n",
    "Recon2.reactions.get_by_id(\"EX_chol_LPAREN_e_RPAREN_\").lower_bound=-1\n",
    "Recon2.reactions.get_by_id(\"EX_cit_LPAREN_e_RPAREN_\").lower_bound=-1\n",
    "Recon2.reactions.get_by_id(\"EX_cl_LPAREN_e_RPAREN_\").lower_bound=-1\n",
    "#cobalt2\n",
    "Recon2.reactions.get_by_id(\"EX_csn_LPAREN_e_RPAREN_\").lower_bound=-1\n",
    "#cu2\n",
    "Recon2.reactions.get_by_id(\"EX_dad_2_LPAREN_e_RPAREN_\").lower_bound=-1\n",
    "Recon2.reactions.get_by_id(\"EX_dcyt_LPAREN_e_RPAREN_\").lower_bound=-1\n",
    "Recon2.reactions.get_by_id(\"EX_ddca_LPAREN_e_RPAREN_\").lower_bound=-1\n",
    "Recon2.reactions.get_by_id(\"EX_dgsn_LPAREN_e_RPAREN_\").lower_bound=-1\n",
    "Recon2.reactions.get_by_id(\"EX_fe2_LPAREN_e_RPAREN_\").lower_bound=-1\n",
    "# Methemoglobin normalmente no en sangre\n",
    "#Recon2.reactions.get_by_id(\"EX_fe3_LPAREN_e_RPAREN_\").lower_bound=-1\n",
    "#fe3dcit\n",
    "Recon2.reactions.get_by_id(\"EX_fald_LPAREN_e_RPAREN_\").lower_bound=-1\n",
    "Recon2.reactions.get_by_id(\"EX_fol_LPAREN_e_RPAREN_\").lower_bound=-1\n",
    "Recon2.reactions.get_by_id(\"EX_for_LPAREN_e_RPAREN_\").lower_bound=-1\n",
    "Recon2.reactions.get_by_id(\"EX_fum_LPAREN_e_RPAREN_\").lower_bound=-1\n",
    "Recon2.reactions.get_by_id(\"EX_gam_LPAREN_e_RPAREN_\").lower_bound=-1\n",
    "Recon2.reactions.get_by_id(\"EX_glu_L_LPAREN_e_RPAREN_\").lower_bound=-1\n",
    "Recon2.reactions.get_by_id(\"EX_glyc3p_LPAREN_e_RPAREN_\").lower_bound=-1\n",
    "Recon2.reactions.get_by_id(\"EX_gthox_LPAREN_e_RPAREN_\").lower_bound=-1\n",
    "Recon2.reactions.get_by_id(\"EX_gthrd_LPAREN_e_RPAREN_\").lower_bound=-1\n",
    "Recon2.reactions.get_by_id(\"EX_gua_LPAREN_e_RPAREN_\").lower_bound=-1\n",
    "Recon2.reactions.get_by_id(\"EX_h_LPAREN_e_RPAREN_\").lower_bound=-1\n",
    "Recon2.reactions.get_by_id(\"EX_h2o_LPAREN_e_RPAREN_\").lower_bound=-10\n",
    "Recon2.reactions.get_by_id(\"EX_h2o2_LPAREN_e_RPAREN_\").lower_bound=-0.01\n",
    "\n",
    "#h2s\n",
    "Recon2.reactions.get_by_id(\"EX_hxan_LPAREN_e_RPAREN_\").lower_bound=-1\n",
    "#indole\n",
    "Recon2.reactions.get_by_id(\"EX_k_LPAREN_e_RPAREN_\").lower_bound=-1\n",
    "#lanost\n",
    "Recon2.reactions.get_by_id(\"EX_meoh_LPAREN_e_RPAREN_\").lower_bound=-10\n",
    "#metsox_S_L\n",
    "#mg2\n",
    "#mn2\n",
    "#mobd\n",
    "#mqn8\n",
    "Recon2.reactions.get_by_id(\"EX_na1_LPAREN_e_RPAREN_\").lower_bound=-1\n",
    "Recon2.reactions.get_by_id(\"EX_nac_LPAREN_e_RPAREN_\").lower_bound=-1\n",
    "Recon2.reactions.get_by_id(\"EX_ncam_LPAREN_e_RPAREN_\").lower_bound=-1\n",
    "#nmn nmn_e doesn't exists in Recon 2.2 \n",
    "Recon2.reactions.get_by_id(\"EX_no2_LPAREN_e_RPAREN_\").lower_bound=-1\n",
    "Recon2.reactions.get_by_id(\"EX_orn_LPAREN_e_RPAREN_\").lower_bound=-1\n",
    "# No en sangre\n",
    "#Recon2.reactions.get_by_id(\"EX_pheme_LPAREN_e_RPAREN_\").lower_bound=-1\n",
    "\n",
    "Recon2.reactions.get_by_id(\"EX_pi_LPAREN_e_RPAREN_\").lower_bound=-1\n",
    "#Pimelate  not in Human\n",
    "Recon2.reactions.get_by_id(\"EX_pnto_R_LPAREN_e_RPAREN_\").lower_bound=-1\n",
    "Recon2.reactions.get_by_id(\"EX_ptrc_LPAREN_e_RPAREN_\").lower_bound=-1\n",
    "# No en sangre\n",
    "#Recon2.reactions.get_by_id(\"EX_pydam_LPAREN_e_RPAREN_\").lower_bound=-1\n",
    "Recon2.reactions.get_by_id(\"EX_pydx_LPAREN_e_RPAREN_\").lower_bound=-1\n",
    "Recon2.reactions.get_by_id(\"EX_pydx5p_LPAREN_e_RPAREN_\").lower_bound=-1\n",
    "Recon2.reactions.get_by_id(\"EX_pydxn_LPAREN_e_RPAREN_\").lower_bound=-1\n",
    "#ubiquinone-8 not in Human\n",
    "Recon2.reactions.get_by_id(\"EX_ribflv_LPAREN_e_RPAREN_\").lower_bound=-1\n",
    "#No en sangre\n",
    "Recon2.reactions.get_by_id(\"EX_sel_LPAREN_e_RPAREN_\").lower_bound=-1\n",
    "#Siroheme not in Human\n",
    "Recon2.reactions.get_by_id(\"EX_so4_LPAREN_e_RPAREN_\").lower_bound=-1\n",
    "Recon2.reactions.get_by_id(\"EX_spmd_LPAREN_e_RPAREN_\").lower_bound=-1\n",
    "Recon2.reactions.get_by_id(\"EX_thm_LPAREN_e_RPAREN_\").lower_bound=-1\n",
    "Recon2.reactions.get_by_id(\"EX_thymd_LPAREN_e_RPAREN_\").lower_bound=-1\n",
    "Recon2.reactions.get_by_id(\"EX_ura_LPAREN_e_RPAREN_\").lower_bound=-1\n",
    "Recon2.reactions.get_by_id(\"EX_uri_LPAREN_e_RPAREN_\").lower_bound=-1\n",
    "#Xanthine not in Human\n",
    "#zn2 not in Human\n",
    "\n",
    "Recon2.reactions.biomass_reaction.lower_bound=0.008\n",
    "Recon2.reactions.biomass_reaction.upper_bound=0.1\n",
    "\n"
   ]
  },
  {
   "cell_type": "code",
   "execution_count": 8,
   "metadata": {},
   "outputs": [
    {
     "data": {
      "text/plain": [
       "<Solution 0.100 at 0x7fbadfdbe048>"
      ]
     },
     "execution_count": 8,
     "metadata": {},
     "output_type": "execute_result"
    }
   ],
   "source": [
    "Recon2.optimize()"
   ]
  },
  {
   "cell_type": "code",
   "execution_count": 9,
   "metadata": {},
   "outputs": [
    {
     "data": {
      "text/html": [
       "<div>\n",
       "<style>\n",
       "    .dataframe thead tr:only-child th {\n",
       "        text-align: right;\n",
       "    }\n",
       "\n",
       "    .dataframe thead th {\n",
       "        text-align: left;\n",
       "    }\n",
       "\n",
       "    .dataframe tbody tr th {\n",
       "        vertical-align: top;\n",
       "    }\n",
       "</style>\n",
       "<table border=\"1\" class=\"dataframe\">\n",
       "  <thead>\n",
       "    <tr style=\"text-align: right;\">\n",
       "      <th></th>\n",
       "      <th>CancerBiopsyHGU133A</th>\n",
       "      <th>NormalBiopsyHGU133A</th>\n",
       "      <th>CancerBiopsyHGU133Plus2</th>\n",
       "      <th>NormalBiopsyHGU133APlus2</th>\n",
       "      <th>MaxCancerBiopsy</th>\n",
       "      <th>MaxNormalBiopsy</th>\n",
       "      <th>MeanCancerBiopsy</th>\n",
       "      <th>MeanNormalBiopsy</th>\n",
       "    </tr>\n",
       "  </thead>\n",
       "  <tbody>\n",
       "    <tr>\n",
       "      <th>HGNC:10006</th>\n",
       "      <td>0.000000</td>\n",
       "      <td>0.0000</td>\n",
       "      <td>0.000000</td>\n",
       "      <td>0.0</td>\n",
       "      <td>0.000000</td>\n",
       "      <td>0.0000</td>\n",
       "      <td>0.000000</td>\n",
       "      <td>0.00000</td>\n",
       "    </tr>\n",
       "    <tr>\n",
       "      <th>HGNC:1027</th>\n",
       "      <td>0.015625</td>\n",
       "      <td>0.0625</td>\n",
       "      <td>0.116667</td>\n",
       "      <td>0.0</td>\n",
       "      <td>0.116667</td>\n",
       "      <td>0.0625</td>\n",
       "      <td>0.066146</td>\n",
       "      <td>0.03125</td>\n",
       "    </tr>\n",
       "    <tr>\n",
       "      <th>HGNC:10293</th>\n",
       "      <td>0.000000</td>\n",
       "      <td>0.0000</td>\n",
       "      <td>0.483333</td>\n",
       "      <td>0.0</td>\n",
       "      <td>0.483333</td>\n",
       "      <td>0.0000</td>\n",
       "      <td>0.241667</td>\n",
       "      <td>0.00000</td>\n",
       "    </tr>\n",
       "    <tr>\n",
       "      <th>HGNC:10297</th>\n",
       "      <td>0.000000</td>\n",
       "      <td>0.0000</td>\n",
       "      <td>0.541667</td>\n",
       "      <td>0.0</td>\n",
       "      <td>0.541667</td>\n",
       "      <td>0.0000</td>\n",
       "      <td>0.270833</td>\n",
       "      <td>0.00000</td>\n",
       "    </tr>\n",
       "    <tr>\n",
       "      <th>HGNC:10451</th>\n",
       "      <td>0.878472</td>\n",
       "      <td>0.6000</td>\n",
       "      <td>1.000000</td>\n",
       "      <td>0.5</td>\n",
       "      <td>1.000000</td>\n",
       "      <td>0.6000</td>\n",
       "      <td>0.939236</td>\n",
       "      <td>0.55000</td>\n",
       "    </tr>\n",
       "  </tbody>\n",
       "</table>\n",
       "</div>"
      ],
      "text/plain": [
       "            CancerBiopsyHGU133A  NormalBiopsyHGU133A  CancerBiopsyHGU133Plus2  \\\n",
       "HGNC:10006             0.000000               0.0000                 0.000000   \n",
       "HGNC:1027              0.015625               0.0625                 0.116667   \n",
       "HGNC:10293             0.000000               0.0000                 0.483333   \n",
       "HGNC:10297             0.000000               0.0000                 0.541667   \n",
       "HGNC:10451             0.878472               0.6000                 1.000000   \n",
       "\n",
       "            NormalBiopsyHGU133APlus2  MaxCancerBiopsy  MaxNormalBiopsy  \\\n",
       "HGNC:10006                       0.0         0.000000           0.0000   \n",
       "HGNC:1027                        0.0         0.116667           0.0625   \n",
       "HGNC:10293                       0.0         0.483333           0.0000   \n",
       "HGNC:10297                       0.0         0.541667           0.0000   \n",
       "HGNC:10451                       0.5         1.000000           0.6000   \n",
       "\n",
       "            MeanCancerBiopsy  MeanNormalBiopsy  \n",
       "HGNC:10006          0.000000           0.00000  \n",
       "HGNC:1027           0.066146           0.03125  \n",
       "HGNC:10293          0.241667           0.00000  \n",
       "HGNC:10297          0.270833           0.00000  \n",
       "HGNC:10451          0.939236           0.55000  "
      ]
     },
     "execution_count": 9,
     "metadata": {},
     "output_type": "execute_result"
    }
   ],
   "source": [
    "import pandas as pd\n",
    "ub_scores_matrix =pd.read_csv(\"Binary_Byposys_RECON2_2.tsv\",sep=\",\",index_col=0,header=0)\n",
    "confidence_scores_matrix=ub_scores_matrix.copy()\n",
    "confidence_scores_matrix.head()"
   ]
  },
  {
   "cell_type": "code",
   "execution_count": 10,
   "metadata": {
    "collapsed": true
   },
   "outputs": [],
   "source": [
    "for model in ub_scores_matrix.columns:\n",
    "    #High Confidence rate \n",
    "       \n",
    "    HC=ub_scores_matrix[model][ub_scores_matrix[model] >= .7].index.tolist()\n",
    "    confidence_scores_matrix[model][HC]=3\n",
    "        \n",
    "    #Medium Confidence Rate \n",
    "    MC=ub_scores_matrix[model][(ub_scores_matrix[model] <  .7) & (ub_scores_matrix[model] >= 0.5) ].index.tolist()\n",
    "    confidence_scores_matrix[model][MC]=2\n",
    "        \n",
    "    #Low\n",
    "    LC=ub_scores_matrix[model][(ub_scores_matrix[model] < 0.5) & (ub_scores_matrix[model] >=0.4) ].index.tolist()\n",
    "    confidence_scores_matrix[model][LC]=1\n",
    "    \n",
    "    #unknown\n",
    "    ZC=ub_scores_matrix[model][(ub_scores_matrix[model] <.4) & (ub_scores_matrix[model] >= 0.2) ].index.tolist()\n",
    "    confidence_scores_matrix[model][ZC]=0\n",
    "    \n",
    "    #Negative\n",
    "    NC=ub_scores_matrix[model][(ub_scores_matrix[model] < 0.2 )].index.tolist()\n",
    "    confidence_scores_matrix[model][NC]=-1\n",
    " "
   ]
  },
  {
   "cell_type": "code",
   "execution_count": 11,
   "metadata": {
    "collapsed": true
   },
   "outputs": [],
   "source": [
    "from corda import reaction_confidence\n",
    "\n",
    "\n",
    "conf_MeanCancerBiopsy = {}\n",
    "conf_MeanNormalBiopsy = {}\n",
    "\n",
    "for r in Recon2.reactions:\n",
    "    if(r.gene_reaction_rule!=''):\n",
    "        conf_MeanCancerBiopsy[r.id]=reaction_confidence(r.gene_reaction_rule,confidence_scores_matrix[\"MeanCancerBiopsy\"])\n",
    "        conf_MeanNormalBiopsy[r.id]=reaction_confidence(r.gene_reaction_rule,confidence_scores_matrix[\"MeanNormalBiopsy\"])\n",
    "    else:\n",
    "        conf_MeanCancerBiopsy[r.id]=0\n",
    "        conf_MeanNormalBiopsy[r.id]=0"
   ]
  },
  {
   "cell_type": "code",
   "execution_count": 12,
   "metadata": {
    "collapsed": true
   },
   "outputs": [],
   "source": [
    "conf_MeanCancerBiopsy[\"biomass_reaction\"]=3\n",
    "conf_MeanCancerBiopsy[\"biomass_DNA\"]=3\n",
    "conf_MeanCancerBiopsy[\"biomass_RNA\"]=3\n",
    "conf_MeanCancerBiopsy[\"biomass_carbohydrate\"]=3\n",
    "conf_MeanCancerBiopsy[\"biomass_lipid\"]=3\n",
    "conf_MeanCancerBiopsy[\"biomass_other\"]=3\n",
    "conf_MeanCancerBiopsy[\"biomass_protein\"]=3\n",
    "conf_MeanCancerBiopsy[\"DM_atp_c_\"]=3\n",
    "\n",
    "\n",
    "conf_MeanNormalBiopsy[\"biomass_reaction\"]=3\n",
    "conf_MeanNormalBiopsy[\"biomass_DNA\"]=3\n",
    "conf_MeanNormalBiopsy[\"biomass_RNA\"]=3\n",
    "conf_MeanNormalBiopsy[\"biomass_carbohydrate\"]=3\n",
    "conf_MeanNormalBiopsy[\"biomass_lipid\"]=3\n",
    "conf_MeanNormalBiopsy[\"biomass_other\"]=3\n",
    "conf_MeanNormalBiopsy[\"biomass_protein\"]=3\n",
    "conf_MeanNormalBiopsy[\"DM_atp_c_\"]=3\n",
    "\n",
    "Recon2.objective=\"biomass_reaction\"\n"
   ]
  },
  {
   "cell_type": "code",
   "execution_count": 13,
   "metadata": {
    "collapsed": true
   },
   "outputs": [],
   "source": [
    "metas = ['adp_c', 'atp_c','glc_D_c',  'fru_c', 'nad_c', 'nadh_c','nad_m', 'nadh_m','nadph_c', 'nadph_m', 'nadp_c', 'nadp_m', 'cmp_c', 'HC00342_c', 'glcn_c', 'citr_L_c', 'glyb_c', 'icit_c', '3pg_c', 'accoa_m ->coa_m', 'akg_m', 'e4p_c', 'f6p_c', 'g3p_c', 'g6p_c', 'oaa_m', 'pep_c', 'pyr_c', 'r5p_c', 'succoa_m ->coa_m', 'ala_L_c', 'arg_L_c', 'asn_L_c', 'asp_L_c', 'val_L_c', 'adp_c', 'thr_L_c', 'leu_L_c', 'gln_L_c', 'glu_L_c', 'gly_c', 'pro_D_c', 'pro_L_c', 'ser_L_c', 'ctp_c', 'fdp_c','utp_c', 'pmtcoa_c -> coa_c', 'chsterol_c', 'dag_hs_c', 'tag_hs_c', 'mag_hs_c', 'gthox_c','gthrd_c','ru5p_D_c','crm_hs_c', 'pa_hs_c', 'pe_hs_c', 'ps_hs_c', 'hxan_c', 'creat_c', 'crtn_c', 'chol_c', 'orn_c', '4hpro_LT_c', 's7p_c', 'amp_c', 'udp_c', 'ade_c', 'asp_D_c', 'adn_c', 'ump_c', 'his_L_c', 'tyr_L_c', 'phe_L_c', 'gdp_c', 'ctp_c', 'cys_L_c', 'amet_c', 'cit_c', 'tym_c', 'succ_c', 'CE1936_c', 'gua_c', 'cdp_c', 'g1p_c', 'lys_L_c', 'bhb_c', 'ile_L_c', 'gmp_c', 'dhap_c', 'fum_c', 'mal_L_c', 'spmd_c', 'ala_B_c', 'trp_L_c', 'lac_L_c', 'met_L_c', 'ptrc_c', '4abut_c','0.014 biomass_DNA_c + 0.058 biomass_RNA_c + 0.071 biomass_carbohydrate_c + 0.097 biomass_lipid_c + 0.054 biomass_other_c + 0.706 biomass_protein_c --> ']"
   ]
  },
  {
   "cell_type": "code",
   "execution_count": 14,
   "metadata": {},
   "outputs": [
    {
     "name": "stdout",
     "output_type": "stream",
     "text": [
      "build status: reconstruction complete\n",
      "Inc. reactions: 2041/7886\n",
      " - unclear: 912/3621\n",
      " - exclude: 218/2637\n",
      " - low and medium: 226/845\n",
      " - high: 685/783\n",
      "\n",
      "<Solution 0.056 at 0x7fbade0569e8>\n",
      "CPU times: user 10min 23s, sys: 128 ms, total: 10min 23s\n",
      "Wall time: 10min 23s\n"
     ]
    }
   ],
   "source": [
    "%%time\n",
    "#n=5  penalty_factor=900  <Solution 0.056 at 0x7fabebb0f278>\n",
    "\n",
    "\n",
    "from corda import CORDA\n",
    "\n",
    "opt_MeanCancerBiopsy = CORDA(model=Recon2, confidence=conf_MeanCancerBiopsy, n=5, met_prod=metas,  penalty_factor=1000 ) \n",
    "opt_MeanCancerBiopsy.build()\n",
    "print(opt_MeanCancerBiopsy)\n",
    "model_MeanCancerBiopsy=opt_MeanCancerBiopsy.cobra_model(name=\"MeanCancerBiopsy\")\n",
    "print(model_MeanCancerBiopsy.optimize())"
   ]
  },
  {
   "cell_type": "code",
   "execution_count": null,
   "metadata": {},
   "outputs": [
    {
     "name": "stdout",
     "output_type": "stream",
     "text": [
      "IN FLUXES                                      OUT FLUXES                                      OBJECTIVES\n",
      "---------------------------------------------  ----------------------------------------------  -----------------------\n",
      "id                   Flux  Range               id                   Flux  Range                biomass_reac...  0.0563\n",
      "---------------  --------  ------------------  ---------------  --------  -------------------\n",
      "h2o_e            0.499     [-3.46, 7.85]       h_e              1.17      [-1, 6.3]\n",
      "glyc_e           0.32      [0, 1.8]            lac_L_e          0.777     [-0.01, 8.1]\n",
      "cit_e            0.31      [-0.845, 1]         ac_e             0.353     [0, 4.72]\n",
      "glc_D_e          0.149     [0.149, -0.899]     mal_L_e          0.32      [-0.01, 3.39]\n",
      "ser_L_e          0.0495    [0.0124, 1]         lac_D_e          0.297     [0, 8.11]\n",
      "gam_e            0.0384    [0, 1]              pi_e             0.127     [-0.106, 0.614]\n",
      "lys_L_e          0.0333    [0.0333, 0.0333]    nh4_e            0.0736    [-0.01, 4.42]\n",
      "glu_L_e          0.0314    [0, 1]              urate_e          0.0462    [0, 0.0506]\n",
      "leu_L_e          0.0307    [0.0207, 0.15]      glyc_S_e         0.037     [0, 0.988]\n",
      "gly_e            0.0303    [-0.256, 0.45]      co2_e            0.027     [-0.01, 4.8]\n",
      "pro_L_e          0.0232    [0.0232, 0.0232]    abt_e            0.02      [0, 0.929]\n",
      "arg_L_e          0.0202    [0.0102, 0.0202]    ribflv_e         0.01      [0, 0.02]\n",
      "asp_L_e          0.0198    [0, 0.225]          glygn4_e         0.01      [0, 0.01]\n",
      "val_L_e          0.0198    [0.00983, 0.18]     strch2_e         0.01      [0, 0.01]\n",
      "gln_L_e          0.0183    [0.18, -1.93]       ascb_L_e         0.01      [-0.01, 0.01]\n",
      "thr_L_e          0.0176    [0.0176, 0.0176]    adn_e            0.01      [0.01, -1]\n",
      "3mop_e           0.0161    [-0.134, 1]         ala_L_e          0.00861   [-0.3, 1.06]\n",
      "asn_L_e          0.0157    [0.0157, 0.0157]    dcmp_e           0.00727   [0.00727, -0.01]\n",
      "phe_L_e          0.0146    [0.0146, 0.0146]    Rtotal_e         0.00672   [-0.01, 0.019]\n",
      "glyc3p_e         0.0108    [-0.01, 0.434]      c51crn_e         0.00548   [0, 0.01]\n",
      "ps_hs_e          0.01      [0.01, 0.01]        am4n9cs_e        0.00475   [0, 0.01]\n",
      "fad_e            0.01      [0, 0.01]           ala_B_e          0.00452   [-0.01, 0.982]\n",
      "glygn2_e         0.01      [0, 0.01]           q10h2_e          0.00452   [0.01, -0.01]\n",
      "o2s_e            0.01      [0, 0.01]           dttp_m           0.00315   [0, 0.0163]\n",
      "strch1_e         0.01      [0, 0.01]           acetone_e        0.00312   [0, 0.0607]\n",
      "dctp_n           0.01      [-0.00727, 0.01]    vacc_e           0.00135   [-0.01, 0.124]\n",
      "dhdascb_e        0.01      [0.01, -0.01]       dag_hs_e         0.000984  [-0.000984, 0.0159]\n",
      "datp_n           0.01      [0.01, -0.0109]     fum_e            0         [-1, 2.4]\n",
      "dgtp_n           0.01      [0.01, -0.0109]     5oxpro_e         0         [0, 2.38]\n",
      "atp_e            0.01      [0.01, -0.0232]     akg_e            0         [-0.01, 2.25]\n",
      "xmp_e            0.01      [0.01, -0.0332]     fald_e           0         [-1, 1.96]\n",
      "acac_e           0.01      [0.01, -0.0507]     HC00342_e        0         [-0.01, 1.83]\n",
      "o2_e             0.01      [0.01, -0.114]      slfcys_e         0         [-0.01, 1.01]\n",
      "h2o2_e           0.01      [0.01, -0.125]      ile_L_e          0         [-0.15, 0.984]\n",
      "ha_e             0.01      [0.01, -0.199]      xylt_e           0         [-0.01, 0.919]\n",
      "ppa_e            0.01      [0.01, -0.361]      gthrd_e          0         [-0.281, 0.617]\n",
      "ins_e            0.01      [0.01, -1]          Lcystin_c        0         [-0.01, 0.504]\n",
      "pyr_e            0.01      [0.01, -2.95]       fe3_e            0         [-0.01, 0.496]\n",
      "tyr_L_e          0.00898   [0.00898, 0.00898]  ha_pre1_e        0         [-0.01, 0.395]\n",
      "met_L_e          0.00861   [0.00861, 0.0418]   gal_e            0         [0, 0.315]\n",
      "lpchol_hs_e      0.00771   [0, 0.01]           oxa_e            0         [0, 0.265]\n",
      "his_L_e          0.00711   [0, 0.00711]        3mob_e           0         [-0.01, 0.16]\n",
      "utp_e            0.00616   [0.00301, 0.01]     HC00250_e        0         [0, 0.143]\n",
      "crn_e            0.00548   [0, 0.01]           gthox_e          0         [0, 0.135]\n",
      "pe_hs_e          0.00508   [-0.00688, 0.01]    taur_c           0         [-0.01, 0.134]\n",
      "am9csa_e         0.00475   [0, 0.01]           hdcea_e          0         [0, 0.12]\n",
      "q10_e            0.00452   [-0.01, 0.01]       4mop_e           0         [-0.01, 0.119]\n",
      "biomass_other_c  0.00304   [0.00304, 0.00304]  ocdcea_e         0         [0, 0.108]\n",
      "cys_L_e          0.00262   [-0.0274, 1]        fuc_L_e          0         [0, 0.0949]\n",
      "datp_m           0.00256   [0.00699, -0.0209]  nrvnc_e          0         [0, 0.0948]\n",
      "for_e            0.002     [0.00585, -1.48]    anth_c           0         [0, 0.0811]\n",
      "strdnc_e         0.00135   [0, 0.01]           pheme_e          0         [0, 0.0567]\n",
      "inost_e          0.00131   [0.00131, 0.00131]  Ser_Thr_l        0         [-0.01, 0.05]\n",
      "sph1p_e          0.000984  [0.000984, 0.01]    ahcys_e          0         [0, 0.0332]\n",
      "pglyc_hs_e       0.00082   [0.00082, 0.00082]  acald_e          0         [-0.01, 0.0309]\n",
      "trp_L_e          0.000748  [0.000748, 0.0818]  adrn_e           0         [0, 0.0301]\n",
      "dttp_n           0.000736  [-0.00626, 0.01]    clpnd_e          0         [0, 0.03]\n",
      "meoh_e           0         [-1, 1.96]          cholate_e        0         [0, 0.0256]\n",
      "so4_e            0         [-0.13, 1]          bilglcur_e       0         [0, 0.024]\n",
      "fe2_e            0         [-0.01, 0.499]      co_e             0         [0, 0.024]\n",
      "arab_L_e         0         [0, 0.179]          prostgh2_e       0         [0, 0.024]\n",
      "hdca_e           0         [0, 0.131]          dgtp_m           0         [0, 0.0209]\n",
      "ocdca_e          0         [0, 0.125]          1mncam_e         0         [0, 0.02]\n",
      "lnlc_e           0         [0, 0.0538]         nac_e            0         [0, 0.02]\n",
      "3hpvs_e          0         [0, 0.01]           tmndnc_e         0         [-0.01, 0.02]\n",
      "4hpro_LT_m       0         [0, 0.01]           dctp_m           0         [0, 0.0173]\n",
      "C02470_e         0         [0, 0.01]           glyb_e           0         [0, 0.0172]\n",
      "HC00822_e        0         [0, 0.01]           gchola_e         0         [-0.01, 0.0156]\n",
      "T_antigen_g      0         [0, 0.01]           tchola_e         0         [-0.01, 0.0154]\n",
      "citr_L_c         0         [0, 0.01]           core5_g          0         [0, 0.012]\n",
      "crvnc_e          0         [0, 0.01]           core7_g          0         [0, 0.012]\n",
      "csa_e            0         [0, 0.01]           3ddcrn_e         0         [0, 0.01]\n",
      "dcsptn1_e        0         [0, 0.01]           3deccrn_e        0         [0, 0.01]\n",
      "ddca_e           0         [0, 0.01]           3hpvstet_e       0         [0, 0.01]\n",
      "etoh_e           0         [0, 0.01]           3ivcrn_e         0         [0, 0.01]\n",
      "fmn_e            0         [0, 0.01]           3octdeccrn_e     0         [0, 0.01]\n",
      "gluala_e         0         [0, 0.01]           3tdcrn_e         0         [0, 0.01]\n",
      "leuktrA4_e       0         [0, 0.01]           3ttetddcoacrn_e  0         [0, 0.01]\n",
      "octa_e           0         [0, 0.01]           am4ncs_e         0         [0, 0.01]\n",
      "retinol_e        0         [0, 0.01]           c6crn_e          0         [0, 0.01]\n",
      "sbt_D_e          0         [0, 0.01]           c8crn_e          0         [0, 0.01]\n",
      "tacr_e           0         [0, 0.01]           ddeccrn_e        0         [0, 0.01]\n",
      "whhdca_e         0         [0, 0.01]           epoxtac_e        0         [0, 0.01]\n",
      "pe_hs_r          0         [-0.00688, 0.01]    ivcrn_e          0         [0, 0.01]\n",
      "Asn_X_Ser_Thr_l  0         [-0.01, 0.01]       leuktrB4_e       0         [0, 0.01]\n",
      "eicostet_e       0         [-0.01, 0.01]       leuktrE4_e       0         [0, 0.01]\n",
      "carn_e           0         [0, 0.00711]        retfa_e          0         [0, 0.01]\n",
      "                                               retn_e           0         [0, 0.01]\n",
      "                                               HC01609_e        0         [-0.01, 0.01]\n",
      "                                               HC01610_e        0         [-0.01, 0.01]\n",
      "                                               cmp_e            0         [-0.01, 0.01]\n",
      "                                               ctp_e            0         [-0.01, 0.01]\n",
      "                                               dtmp_e           0         [-0.01, 0.01]\n",
      "                                               dttp_e           0         [-0.01, 0.01]\n",
      "                                               n2m2nmasn_e      0         [-0.01, 0.01]\n",
      "                                               ncam_c           0         [-0.01, 0.01]\n",
      "                                               fuc14galacgl...  0         [0, 0.00902]\n",
      "                                               sphs1p_e         0         [0, 0.00902]\n",
      "                                               man_e            0         [0.03, -0.114]\n"
     ]
    }
   ],
   "source": [
    "model_MeanCancerBiopsy.summary(fva=True)"
   ]
  },
  {
   "cell_type": "code",
   "execution_count": null,
   "metadata": {},
   "outputs": [],
   "source": [
    "%%time\n",
    "#n=5  penalty_factor=900  <Solution 0.051 at 0x7fabebf29160>\n",
    "#n=5  penalty_factor=500  <Solution 0.050 at 0x7fabebf29160>\n",
    "\n",
    "from corda import CORDA\n",
    "\n",
    "\n",
    "opt_MeanNormalBiopsy = CORDA(model=Recon2, confidence=conf_MeanNormalBiopsy, n=5, met_prod=metas,  penalty_factor=1000) \n",
    "opt_MeanNormalBiopsy.build()\n",
    "print(opt_MeanNormalBiopsy)\n",
    "model_MeanNormalBiopsy=opt_MeanNormalBiopsy.cobra_model(name=\"MeanNormalBiopsy\")\n",
    "print(model_MeanNormalBiopsy.optimize())"
   ]
  },
  {
   "cell_type": "code",
   "execution_count": null,
   "metadata": {},
   "outputs": [],
   "source": [
    "model_MeanNormalBiopsy.summary(fva=True)"
   ]
  },
  {
   "cell_type": "code",
   "execution_count": null,
   "metadata": {
    "collapsed": true
   },
   "outputs": [],
   "source": [
    "cobra.io.write_sbml_model(model_MeanCancerBiopsy, \"Full_SCC_model_1218_western_diet_n5.sbml\")\n",
    "cobra.io.write_sbml_model(model_MeanNormalBiopsy, \"Full_Normal_model_1218_western_diet_n5.sbml\")"
   ]
  },
  {
   "cell_type": "code",
   "execution_count": null,
   "metadata": {
    "collapsed": true
   },
   "outputs": [],
   "source": [
    "import pandas as pd\n",
    "\n",
    "def get_drugable_targets(normal_Model, disease_Model, model_name,  eps=0.1):\n",
    "    Nids = [r.id for r in normal_Model.reactions]\n",
    "    Dids = [r.id for r in disease_Model.reactions]\n",
    "        \n",
    "    nmodel=normal_Model.copy()\n",
    "    dmodel=disease_Model.copy()\n",
    "\n",
    "    common_rxs = list(set(Nids) & set(Dids))\n",
    "    print(\"Common reactions size\",len(common_rxs))\n",
    "    unique_Nrx = list(set(Nids) - set(Dids))\n",
    "    print(\"Normal unique reactions size\",len(unique_Nrx))\n",
    "    unique_Drx = list(set(Dids) - set(Nids))\n",
    "    print(\"Disease unique reactions size\",len(unique_Drx))\n",
    "\n",
    "    nflx0=normal_Model.optimize().f\n",
    "    dflx0=disease_Model.optimize().f   \n",
    "\n",
    "        \n",
    "    results={}\n",
    "\n",
    "    for rx in common_rxs:\n",
    "        #print(rx)\n",
    "\n",
    "        nbounds=nmodel.reactions.get_by_id(rx).bounds\n",
    "        dbounds=dmodel.reactions.get_by_id(rx).bounds\n",
    "        \n",
    "        nmodel.reactions.get_by_id(rx).bounds=(-eps,eps)\n",
    "        dmodel.reactions.get_by_id(rx).bounds=(-eps,eps)\n",
    "                \n",
    "        nfba=nmodel.optimize()    \n",
    "        dfba=dmodel.optimize()\n",
    "        \n",
    "        nflx1=nfba.f\n",
    "        dflx1=dfba.f\n",
    "        \n",
    "        results[rx]={}\n",
    "        \n",
    "        results[rx][\"model\"]=model_name\n",
    "        results[rx][\"gene_rule\"]=nmodel.reactions.get_by_id(rx).gene_reaction_rule\n",
    "         \n",
    "        results[rx][\"norm_flux\"]=nflx0\n",
    "        results[rx][\"dise_flux\"]=dflx0 \n",
    "        \n",
    "        results[rx][\"del_norm_flux\"]=nflx1\n",
    "        results[rx][\"del_dise_flux\"]=dflx1 \n",
    "            \n",
    "       # results[rx][\"norm_prolif_ratio\"]=nflx1/nflx0\n",
    "        #results[rx][\"dise_prolif_ratio\"]=dflx1/dflx0\n",
    "        \n",
    "        #results[rx][\"norm_dise_ratio\"]=(nflx1/nflx0)/(dflx1/dflx0)\n",
    "        \n",
    "        nmodel.reactions.get_by_id(rx).bounds=nbounds\n",
    "        dmodel.reactions.get_by_id(rx).bounds=dbounds\n",
    "\n",
    "        \n",
    "    for rx in unique_Nrx:\n",
    "        #print(rx)\n",
    "        \n",
    "        nbounds=nmodel.reactions.get_by_id(rx).bounds\n",
    "        \n",
    "        nmodel.reactions.get_by_id(rx).bounds=(-eps,eps)      \n",
    "        \n",
    "        nfba=nmodel.optimize()    \n",
    "        \n",
    "        nflx1=nfba.f\n",
    "        \n",
    "        results[rx]={}\n",
    "        \n",
    "        results[rx][\"model\"]=model_name\n",
    "        results[rx][\"gene_rule\"]=nmodel.reactions.get_by_id(rx).gene_reaction_rule\n",
    "\n",
    "        results[rx][\"norm_flux\"]=nflx0\n",
    "        results[rx][\"dise_flux\"]=dflx0 \n",
    "        \n",
    "        results[rx][\"del_norm_flux\"]=nflx1\n",
    "        results[rx][\"del_dise_flux\"]=dflx0\n",
    "\n",
    "            \n",
    "       # results[rx][\"norm_prolif_ratio\"]=nflx1/nflx0\n",
    "       # results[rx][\"dise_prolif_ratio\"]=dflx0\n",
    "        \n",
    "       # results[rx][\"norm_dise_ratio\"]=nflx1/nflx0\n",
    "            \n",
    "        nmodel.reactions.get_by_id(rx).bounds=nbounds\n",
    "        \n",
    "    for rx in unique_Drx:\n",
    "        #print(rx)\n",
    "        \n",
    "        dbounds=dmodel.reactions.get_by_id(rx).bounds\n",
    "    \n",
    "        dmodel.reactions.get_by_id(rx).bounds=(-eps,eps)\n",
    "        dfba=dmodel.optimize()\n",
    "        dflx1=dfba.f\n",
    "        \n",
    "        results[rx]={}\n",
    "\n",
    "        results[rx][\"model\"]=model_name\n",
    "        results[rx][\"gene_rule\"]=dmodel.reactions.get_by_id(rx).gene_reaction_rule\n",
    "\n",
    "        results[rx][\"norm_flux\"]=nflx0\n",
    "        results[rx][\"dise_flux\"]=dflx0 \n",
    "        \n",
    "        results[rx][\"del_norm_flux\"]=nflx1\n",
    "        results[rx][\"del_dise_flux\"]=dflx1 \n",
    "\n",
    "        #results[rx][\"norm_prolif_ratio\"]=nflx0\n",
    "       # results[rx][\"dise_prolif_ratio\"]=dflx1/dflx0\n",
    "\n",
    "        \n",
    "       # results[rx][\"norm_dise_ratio\"]=1/(dflx1/dflx0)\n",
    "        \n",
    "        dmodel.reactions.get_by_id(rx).bounds=dbounds\n",
    "\n",
    "\n",
    "    return(pd.DataFrame(results).transpose())\n"
   ]
  },
  {
   "cell_type": "code",
   "execution_count": null,
   "metadata": {},
   "outputs": [],
   "source": [
    "R_Biopsies=get_drugable_targets(\n",
    "    normal_Model=model_MeanNormalBiopsy, \n",
    "    disease_Model=model_MeanCancerBiopsy, model_name=\"Biopsys\", eps=0.1)\n",
    "R_Biopsies[\"dise_prolif_ratio\"]=R_Biopsies[\"del_dise_flux\"]/R_Biopsies[\"dise_flux\"]\n",
    "R_Biopsies[\"norm_prolif_ratio\"]=R_Biopsies[\"del_norm_flux\"]/R_Biopsies[\"norm_flux\"]\n",
    "R_Biopsies[\"total_ratio\"]=R_Biopsies[\"dise_prolif_ratio\"]/R_Biopsies[\"norm_prolif_ratio\"]\n"
   ]
  },
  {
   "cell_type": "code",
   "execution_count": null,
   "metadata": {},
   "outputs": [],
   "source": [
    "R_Biopsies[R_Biopsies[\"dise_prolif_ratio\"]<.999].sort_values(by=\"total_ratio\", ascending=True)\n"
   ]
  },
  {
   "cell_type": "code",
   "execution_count": 22,
   "metadata": {
    "collapsed": true
   },
   "outputs": [],
   "source": [
    "import random\n",
    "import numpy\n",
    "\n",
    "\n",
    "def shuffle(conf):\n",
    "    lst = [x for x in range(0,len(conf.items()))]\n",
    "\n",
    "    random.shuffle(lst)\n",
    "    return lst\n",
    "\n",
    "def randomize_model(conf_scores):\n",
    "    lst=shuffle(conf_scores)\n",
    "    a=numpy.array(lst)\n",
    "    (rxindex,rxvalues) = zip(*conf_scores.items())\n",
    "    rxvalues=numpy.array(rxvalues)\n",
    "\n",
    "    nrxval=rxvalues[a]\n",
    "\n",
    "    dictionary = dict(zip(list(rxindex), list(nrxval)))\n",
    "    return(dictionary)\n",
    "\n",
    "\n"
   ]
  },
  {
   "cell_type": "code",
   "execution_count": 23,
   "metadata": {},
   "outputs": [
    {
     "name": "stdout",
     "output_type": "stream",
     "text": [
      "Common reactions size 1120\n",
      "Normal unique reactions size 1059\n",
      "Disease unique reactions size 1100\n"
     ]
    },
    {
     "name": "stderr",
     "output_type": "stream",
     "text": [
      "cobra/util/solver.py:404 \u001b[1;31mUserWarning\u001b[0m: solver status is 'infeasible'\n"
     ]
    },
    {
     "name": "stdout",
     "output_type": "stream",
     "text": [
      "Common reactions size 1169\n",
      "Normal unique reactions size 960\n",
      "Disease unique reactions size 1116\n"
     ]
    },
    {
     "name": "stderr",
     "output_type": "stream",
     "text": [
      "cobra/util/solver.py:404 \u001b[1;31mUserWarning\u001b[0m: solver status is 'infeasible'\n"
     ]
    },
    {
     "name": "stdout",
     "output_type": "stream",
     "text": [
      "Common reactions size 1102\n",
      "Normal unique reactions size 1091\n",
      "Disease unique reactions size 1226\n"
     ]
    },
    {
     "name": "stderr",
     "output_type": "stream",
     "text": [
      "cobra/util/solver.py:404 \u001b[1;31mUserWarning\u001b[0m: solver status is 'infeasible'\n"
     ]
    },
    {
     "name": "stdout",
     "output_type": "stream",
     "text": [
      "Common reactions size 1131\n",
      "Normal unique reactions size 1085\n",
      "Disease unique reactions size 1162\n"
     ]
    },
    {
     "name": "stderr",
     "output_type": "stream",
     "text": [
      "cobra/util/solver.py:404 \u001b[1;31mUserWarning\u001b[0m: solver status is 'infeasible'\n"
     ]
    },
    {
     "name": "stdout",
     "output_type": "stream",
     "text": [
      "Common reactions size 1019\n",
      "Normal unique reactions size 987\n",
      "Disease unique reactions size 1279\n"
     ]
    },
    {
     "name": "stderr",
     "output_type": "stream",
     "text": [
      "cobra/util/solver.py:404 \u001b[1;31mUserWarning\u001b[0m: solver status is 'infeasible'\n"
     ]
    },
    {
     "name": "stdout",
     "output_type": "stream",
     "text": [
      "Common reactions size 1121\n",
      "Normal unique reactions size 1024\n",
      "Disease unique reactions size 1206\n"
     ]
    },
    {
     "name": "stderr",
     "output_type": "stream",
     "text": [
      "cobra/util/solver.py:404 \u001b[1;31mUserWarning\u001b[0m: solver status is 'infeasible'\n"
     ]
    },
    {
     "name": "stdout",
     "output_type": "stream",
     "text": [
      "Common reactions size 1154\n",
      "Normal unique reactions size 1044\n",
      "Disease unique reactions size 1248\n"
     ]
    },
    {
     "name": "stderr",
     "output_type": "stream",
     "text": [
      "cobra/util/solver.py:404 \u001b[1;31mUserWarning\u001b[0m: solver status is 'infeasible'\n"
     ]
    },
    {
     "name": "stdout",
     "output_type": "stream",
     "text": [
      "Common reactions size 1121\n",
      "Normal unique reactions size 1013\n",
      "Disease unique reactions size 1323\n"
     ]
    },
    {
     "name": "stderr",
     "output_type": "stream",
     "text": [
      "cobra/util/solver.py:404 \u001b[1;31mUserWarning\u001b[0m: solver status is 'infeasible'\n"
     ]
    },
    {
     "name": "stdout",
     "output_type": "stream",
     "text": [
      "Common reactions size 1123\n",
      "Normal unique reactions size 1089\n",
      "Disease unique reactions size 1278\n"
     ]
    },
    {
     "name": "stderr",
     "output_type": "stream",
     "text": [
      "cobra/util/solver.py:404 \u001b[1;31mUserWarning\u001b[0m: solver status is 'infeasible'\n"
     ]
    },
    {
     "name": "stdout",
     "output_type": "stream",
     "text": [
      "Common reactions size 1104\n",
      "Normal unique reactions size 1095\n",
      "Disease unique reactions size 1279\n",
      "Common reactions size 1092\n",
      "Normal unique reactions size 1077\n",
      "Disease unique reactions size 1283\n"
     ]
    },
    {
     "name": "stderr",
     "output_type": "stream",
     "text": [
      "cobra/util/solver.py:404 \u001b[1;31mUserWarning\u001b[0m: solver status is 'infeasible'\n"
     ]
    },
    {
     "name": "stdout",
     "output_type": "stream",
     "text": [
      "Common reactions size 1150\n",
      "Normal unique reactions size 1120\n",
      "Disease unique reactions size 1185\n"
     ]
    },
    {
     "name": "stderr",
     "output_type": "stream",
     "text": [
      "cobra/util/solver.py:404 \u001b[1;31mUserWarning\u001b[0m: solver status is 'infeasible'\n"
     ]
    },
    {
     "name": "stdout",
     "output_type": "stream",
     "text": [
      "Common reactions size 1080\n",
      "Normal unique reactions size 967\n",
      "Disease unique reactions size 1237\n",
      "Common reactions size 1101\n",
      "Normal unique reactions size 1090\n",
      "Disease unique reactions size 1258\n",
      "Common reactions size 1266\n",
      "Normal unique reactions size 1116\n",
      "Disease unique reactions size 1139\n",
      "Common reactions size 1092\n",
      "Normal unique reactions size 1032\n",
      "Disease unique reactions size 1298\n"
     ]
    },
    {
     "name": "stderr",
     "output_type": "stream",
     "text": [
      "cobra/util/solver.py:404 \u001b[1;31mUserWarning\u001b[0m: solver status is 'infeasible'\n",
      "cobra/util/solver.py:404 \u001b[1;31mUserWarning\u001b[0m: solver status is 'infeasible'\n"
     ]
    },
    {
     "name": "stdout",
     "output_type": "stream",
     "text": [
      "Common reactions size 1149\n",
      "Normal unique reactions size 1148\n",
      "Disease unique reactions size 1165\n"
     ]
    },
    {
     "name": "stderr",
     "output_type": "stream",
     "text": [
      "cobra/util/solver.py:404 \u001b[1;31mUserWarning\u001b[0m: solver status is 'infeasible'\n"
     ]
    },
    {
     "name": "stdout",
     "output_type": "stream",
     "text": [
      "Common reactions size 1136\n",
      "Normal unique reactions size 1119\n",
      "Disease unique reactions size 1323\n"
     ]
    },
    {
     "name": "stderr",
     "output_type": "stream",
     "text": [
      "cobra/util/solver.py:404 \u001b[1;31mUserWarning\u001b[0m: solver status is 'infeasible'\n"
     ]
    },
    {
     "name": "stdout",
     "output_type": "stream",
     "text": [
      "Common reactions size 1114\n",
      "Normal unique reactions size 939\n",
      "Disease unique reactions size 1315\n"
     ]
    },
    {
     "name": "stderr",
     "output_type": "stream",
     "text": [
      "cobra/util/solver.py:404 \u001b[1;31mUserWarning\u001b[0m: solver status is 'infeasible'\n"
     ]
    },
    {
     "name": "stdout",
     "output_type": "stream",
     "text": [
      "Common reactions size 1186\n",
      "Normal unique reactions size 1075\n",
      "Disease unique reactions size 1189\n"
     ]
    },
    {
     "name": "stderr",
     "output_type": "stream",
     "text": [
      "cobra/util/solver.py:404 \u001b[1;31mUserWarning\u001b[0m: solver status is 'infeasible'\n"
     ]
    },
    {
     "name": "stdout",
     "output_type": "stream",
     "text": [
      "Common reactions size 1014\n",
      "Normal unique reactions size 1130\n",
      "Disease unique reactions size 1294\n"
     ]
    },
    {
     "name": "stderr",
     "output_type": "stream",
     "text": [
      "cobra/util/solver.py:404 \u001b[1;31mUserWarning\u001b[0m: solver status is 'infeasible'\n"
     ]
    },
    {
     "name": "stdout",
     "output_type": "stream",
     "text": [
      "Common reactions size 1151\n",
      "Normal unique reactions size 1065\n",
      "Disease unique reactions size 1299\n"
     ]
    },
    {
     "name": "stderr",
     "output_type": "stream",
     "text": [
      "cobra/util/solver.py:404 \u001b[1;31mUserWarning\u001b[0m: solver status is 'infeasible'\n",
      "cobra/util/solver.py:404 \u001b[1;31mUserWarning\u001b[0m: solver status is 'infeasible'\n"
     ]
    },
    {
     "name": "stdout",
     "output_type": "stream",
     "text": [
      "Common reactions size 1053\n",
      "Normal unique reactions size 1113\n",
      "Disease unique reactions size 1126\n"
     ]
    },
    {
     "name": "stderr",
     "output_type": "stream",
     "text": [
      "cobra/util/solver.py:404 \u001b[1;31mUserWarning\u001b[0m: solver status is 'infeasible'\n"
     ]
    },
    {
     "name": "stdout",
     "output_type": "stream",
     "text": [
      "Common reactions size 993\n",
      "Normal unique reactions size 1139\n",
      "Disease unique reactions size 1254\n"
     ]
    },
    {
     "name": "stderr",
     "output_type": "stream",
     "text": [
      "cobra/util/solver.py:404 \u001b[1;31mUserWarning\u001b[0m: solver status is 'infeasible'\n"
     ]
    },
    {
     "name": "stdout",
     "output_type": "stream",
     "text": [
      "Common reactions size 1041\n",
      "Normal unique reactions size 1112\n",
      "Disease unique reactions size 1212\n"
     ]
    },
    {
     "name": "stderr",
     "output_type": "stream",
     "text": [
      "cobra/util/solver.py:404 \u001b[1;31mUserWarning\u001b[0m: solver status is 'infeasible'\n"
     ]
    },
    {
     "name": "stdout",
     "output_type": "stream",
     "text": [
      "Common reactions size 1054\n",
      "Normal unique reactions size 1137\n",
      "Disease unique reactions size 1266\n"
     ]
    },
    {
     "name": "stderr",
     "output_type": "stream",
     "text": [
      "Process ForkPoolWorker-13:\n",
      "Process ForkPoolWorker-8:\n",
      "Process ForkPoolWorker-22:\n",
      "Process ForkPoolWorker-3:\n",
      "Process ForkPoolWorker-20:\n",
      "Process ForkPoolWorker-21:\n",
      "Process ForkPoolWorker-19:\n",
      "Process ForkPoolWorker-10:\n",
      "Process ForkPoolWorker-18:\n",
      "Process ForkPoolWorker-2:\n",
      "Process ForkPoolWorker-16:\n",
      "Process ForkPoolWorker-7:\n",
      "Process ForkPoolWorker-6:\n",
      "Process ForkPoolWorker-1:\n",
      "Process ForkPoolWorker-4:\n",
      "Process ForkPoolWorker-14:\n",
      "Process ForkPoolWorker-24:\n",
      "Process ForkPoolWorker-12:\n",
      "Process ForkPoolWorker-11:\n",
      "Traceback (most recent call last):\n",
      "  File \"/opt/conda/lib/python3.5/multiprocessing/process.py\", line 249, in _bootstrap\n",
      "    self.run()\n",
      "  File \"/opt/conda/lib/python3.5/multiprocessing/process.py\", line 93, in run\n",
      "    self._target(*self._args, **self._kwargs)\n",
      "  File \"/opt/conda/lib/python3.5/multiprocessing/pool.py\", line 119, in worker\n",
      "    result = (True, func(*args, **kwds))\n",
      "  File \"<ipython-input-23-9847a66c3d0b>\", line 38, in multiple_randomized_analysis\n",
      "    opt_n.build()\n",
      "  File \"/opt/conda/lib/python3.5/site-packages/corda/corda.py\", line 236, in build\n",
      "    need = self.associated(include)\n",
      "  File \"/opt/conda/lib/python3.5/site-packages/corda/corda.py\", line 182, in associated\n",
      "    self.__zero_objective()\n",
      "  File \"/opt/conda/lib/python3.5/site-packages/corda/corda.py\", line 138, in __zero_objective\n",
      "    {v: 0 for v in self.model.variables})\n",
      "Traceback (most recent call last):\n",
      "Traceback (most recent call last):\n",
      "Traceback (most recent call last):\n",
      "Traceback (most recent call last):\n",
      "Traceback (most recent call last):\n",
      "  File \"/opt/conda/lib/python3.5/site-packages/corda/corda.py\", line 138, in <dictcomp>\n",
      "    {v: 0 for v in self.model.variables})\n",
      "  File \"/opt/conda/lib/python3.5/multiprocessing/process.py\", line 249, in _bootstrap\n",
      "    self.run()\n",
      "Traceback (most recent call last):\n",
      "Traceback (most recent call last):\n",
      "Traceback (most recent call last):\n",
      "Traceback (most recent call last):\n",
      "  File \"/opt/conda/lib/python3.5/multiprocessing/process.py\", line 249, in _bootstrap\n",
      "    self.run()\n",
      "  File \"/opt/conda/lib/python3.5/multiprocessing/process.py\", line 249, in _bootstrap\n",
      "    self.run()\n",
      "  File \"/opt/conda/lib/python3.5/multiprocessing/process.py\", line 249, in _bootstrap\n",
      "    self.run()\n",
      "  File \"/opt/conda/lib/python3.5/multiprocessing/process.py\", line 249, in _bootstrap\n",
      "    self.run()\n",
      "KeyboardInterrupt\n",
      "  File \"/opt/conda/lib/python3.5/multiprocessing/process.py\", line 249, in _bootstrap\n",
      "    self.run()\n",
      "  File \"/opt/conda/lib/python3.5/multiprocessing/process.py\", line 249, in _bootstrap\n",
      "    self.run()\n",
      "  File \"/opt/conda/lib/python3.5/multiprocessing/process.py\", line 93, in run\n",
      "    self._target(*self._args, **self._kwargs)\n",
      "  File \"/opt/conda/lib/python3.5/multiprocessing/process.py\", line 249, in _bootstrap\n",
      "    self.run()\n",
      "  File \"/opt/conda/lib/python3.5/multiprocessing/process.py\", line 249, in _bootstrap\n",
      "    self.run()\n",
      "  File \"/opt/conda/lib/python3.5/multiprocessing/process.py\", line 93, in run\n",
      "    self._target(*self._args, **self._kwargs)\n",
      "  File \"/opt/conda/lib/python3.5/multiprocessing/process.py\", line 93, in run\n",
      "    self._target(*self._args, **self._kwargs)\n",
      "  File \"/opt/conda/lib/python3.5/multiprocessing/process.py\", line 93, in run\n",
      "    self._target(*self._args, **self._kwargs)\n",
      "  File \"/opt/conda/lib/python3.5/multiprocessing/process.py\", line 93, in run\n",
      "    self._target(*self._args, **self._kwargs)\n",
      "  File \"/opt/conda/lib/python3.5/multiprocessing/pool.py\", line 119, in worker\n",
      "    result = (True, func(*args, **kwds))\n",
      "  File \"/opt/conda/lib/python3.5/multiprocessing/process.py\", line 93, in run\n",
      "    self._target(*self._args, **self._kwargs)\n",
      "  File \"/opt/conda/lib/python3.5/multiprocessing/process.py\", line 93, in run\n",
      "    self._target(*self._args, **self._kwargs)\n",
      "  File \"/opt/conda/lib/python3.5/multiprocessing/process.py\", line 93, in run\n",
      "    self._target(*self._args, **self._kwargs)\n",
      "  File \"/opt/conda/lib/python3.5/multiprocessing/process.py\", line 93, in run\n",
      "    self._target(*self._args, **self._kwargs)\n",
      "  File \"/opt/conda/lib/python3.5/multiprocessing/pool.py\", line 119, in worker\n",
      "    result = (True, func(*args, **kwds))\n",
      "  File \"/opt/conda/lib/python3.5/multiprocessing/pool.py\", line 119, in worker\n",
      "    result = (True, func(*args, **kwds))\n",
      "  File \"/opt/conda/lib/python3.5/multiprocessing/pool.py\", line 119, in worker\n",
      "    result = (True, func(*args, **kwds))\n",
      "  File \"/opt/conda/lib/python3.5/multiprocessing/pool.py\", line 119, in worker\n",
      "    result = (True, func(*args, **kwds))\n",
      "  File \"/opt/conda/lib/python3.5/multiprocessing/pool.py\", line 119, in worker\n",
      "    result = (True, func(*args, **kwds))\n",
      "  File \"/opt/conda/lib/python3.5/multiprocessing/pool.py\", line 119, in worker\n",
      "    result = (True, func(*args, **kwds))\n",
      "  File \"/opt/conda/lib/python3.5/multiprocessing/pool.py\", line 119, in worker\n",
      "    result = (True, func(*args, **kwds))\n",
      "  File \"<ipython-input-23-9847a66c3d0b>\", line 38, in multiple_randomized_analysis\n",
      "    opt_n.build()\n",
      "  File \"<ipython-input-23-9847a66c3d0b>\", line 38, in multiple_randomized_analysis\n",
      "    opt_n.build()\n",
      "  File \"/opt/conda/lib/python3.5/multiprocessing/pool.py\", line 119, in worker\n",
      "    result = (True, func(*args, **kwds))\n",
      "  File \"<ipython-input-23-9847a66c3d0b>\", line 38, in multiple_randomized_analysis\n",
      "    opt_n.build()\n",
      "  File \"<ipython-input-23-9847a66c3d0b>\", line 38, in multiple_randomized_analysis\n",
      "    opt_n.build()\n",
      "  File \"<ipython-input-23-9847a66c3d0b>\", line 38, in multiple_randomized_analysis\n",
      "    opt_n.build()\n",
      "  File \"<ipython-input-23-9847a66c3d0b>\", line 38, in multiple_randomized_analysis\n",
      "    opt_n.build()\n",
      "  File \"<ipython-input-23-9847a66c3d0b>\", line 38, in multiple_randomized_analysis\n",
      "    opt_n.build()\n",
      "  File \"<ipython-input-23-9847a66c3d0b>\", line 38, in multiple_randomized_analysis\n",
      "    opt_n.build()\n",
      "  File \"/opt/conda/lib/python3.5/site-packages/corda/corda.py\", line 272, in build\n",
      "    penalize_medium=False)\n",
      "  File \"/opt/conda/lib/python3.5/site-packages/corda/corda.py\", line 272, in build\n",
      "    penalize_medium=False)\n",
      "  File \"<ipython-input-23-9847a66c3d0b>\", line 38, in multiple_randomized_analysis\n",
      "    opt_n.build()\n",
      "  File \"/opt/conda/lib/python3.5/site-packages/corda/corda.py\", line 272, in build\n",
      "    penalize_medium=False)\n",
      "  File \"/opt/conda/lib/python3.5/site-packages/corda/corda.py\", line 272, in build\n",
      "    penalize_medium=False)\n",
      "  File \"/opt/conda/lib/python3.5/site-packages/corda/corda.py\", line 272, in build\n",
      "    penalize_medium=False)\n",
      "  File \"/opt/conda/lib/python3.5/site-packages/corda/corda.py\", line 272, in build\n",
      "    penalize_medium=False)\n",
      "  File \"/opt/conda/lib/python3.5/site-packages/corda/corda.py\", line 272, in build\n",
      "    penalize_medium=False)\n",
      "  File \"/opt/conda/lib/python3.5/site-packages/corda/corda.py\", line 182, in associated\n",
      "    self.__zero_objective()\n",
      "  File \"/opt/conda/lib/python3.5/site-packages/corda/corda.py\", line 272, in build\n",
      "    penalize_medium=False)\n",
      "  File \"/opt/conda/lib/python3.5/site-packages/corda/corda.py\", line 244, in build\n",
      "    need = self.associated(include, penalize_medium=False)\n",
      "  File \"/opt/conda/lib/python3.5/site-packages/corda/corda.py\", line 182, in associated\n",
      "    self.__zero_objective()\n",
      "  File \"/opt/conda/lib/python3.5/site-packages/corda/corda.py\", line 182, in associated\n",
      "    self.__zero_objective()\n",
      "  File \"/opt/conda/lib/python3.5/site-packages/corda/corda.py\", line 182, in associated\n",
      "    self.__zero_objective()\n",
      "  File \"/opt/conda/lib/python3.5/site-packages/corda/corda.py\", line 182, in associated\n",
      "    self.__zero_objective()\n",
      "  File \"/opt/conda/lib/python3.5/site-packages/corda/corda.py\", line 182, in associated\n",
      "    self.__zero_objective()\n",
      "  File \"/opt/conda/lib/python3.5/site-packages/corda/corda.py\", line 195, in associated\n",
      "    self.__corda_objective(pen)\n",
      "  File \"/opt/conda/lib/python3.5/site-packages/corda/corda.py\", line 138, in __zero_objective\n",
      "    {v: 0 for v in self.model.variables})\n",
      "  File \"/opt/conda/lib/python3.5/site-packages/corda/corda.py\", line 195, in associated\n",
      "    self.__corda_objective(pen)\n",
      "  File \"/opt/conda/lib/python3.5/site-packages/corda/corda.py\", line 138, in __zero_objective\n",
      "    {v: 0 for v in self.model.variables})\n",
      "  File \"/opt/conda/lib/python3.5/site-packages/corda/corda.py\", line 195, in associated\n",
      "    self.__corda_objective(pen)\n",
      "  File \"/opt/conda/lib/python3.5/site-packages/corda/corda.py\", line 138, in __zero_objective\n",
      "    {v: 0 for v in self.model.variables})\n"
     ]
    },
    {
     "name": "stderr",
     "output_type": "stream",
     "text": [
      "  File \"/opt/conda/lib/python3.5/site-packages/corda/corda.py\", line 138, in __zero_objective\n",
      "    {v: 0 for v in self.model.variables})\n",
      "  File \"/opt/conda/lib/python3.5/site-packages/corda/corda.py\", line 138, in __zero_objective\n",
      "    {v: 0 for v in self.model.variables})\n",
      "  File \"/opt/conda/lib/python3.5/site-packages/corda/corda.py\", line 138, in __zero_objective\n",
      "    {v: 0 for v in self.model.variables})\n",
      "  File \"/opt/conda/lib/python3.5/site-packages/optlang/glpk_interface.py\", line 352, in set_linear_coefficients\n",
      "    glp_set_obj_coef(self.problem.problem, variable._index, float(coefficient))\n",
      "  File \"/opt/conda/lib/python3.5/site-packages/corda/corda.py\", line 134, in __corda_objective\n",
      "    self.model.objective.set_linear_coefficients(pen)\n",
      "  File \"/opt/conda/lib/python3.5/site-packages/optlang/glpk_interface.py\", line 352, in set_linear_coefficients\n",
      "    glp_set_obj_coef(self.problem.problem, variable._index, float(coefficient))\n",
      "  File \"/opt/conda/lib/python3.5/site-packages/corda/corda.py\", line 134, in __corda_objective\n",
      "    self.model.objective.set_linear_coefficients(pen)\n",
      "  File \"/opt/conda/lib/python3.5/site-packages/corda/corda.py\", line 134, in __corda_objective\n",
      "    self.model.objective.set_linear_coefficients(pen)\n",
      "  File \"/opt/conda/lib/python3.5/site-packages/optlang/glpk_interface.py\", line 352, in set_linear_coefficients\n",
      "    glp_set_obj_coef(self.problem.problem, variable._index, float(coefficient))\n",
      "  File \"/opt/conda/lib/python3.5/site-packages/optlang/glpk_interface.py\", line 87, in _index\n",
      "    i = glp_find_col(self.problem.problem, str(self.name))\n",
      "KeyboardInterrupt\n",
      "  File \"/opt/conda/lib/python3.5/site-packages/optlang/glpk_interface.py\", line 352, in set_linear_coefficients\n",
      "    glp_set_obj_coef(self.problem.problem, variable._index, float(coefficient))\n",
      "  File \"/opt/conda/lib/python3.5/site-packages/optlang/glpk_interface.py\", line 352, in set_linear_coefficients\n",
      "    glp_set_obj_coef(self.problem.problem, variable._index, float(coefficient))\n",
      "  File \"/opt/conda/lib/python3.5/site-packages/optlang/glpk_interface.py\", line 352, in set_linear_coefficients\n",
      "    glp_set_obj_coef(self.problem.problem, variable._index, float(coefficient))\n",
      "KeyboardInterrupt\n",
      "Traceback (most recent call last):\n",
      "Traceback (most recent call last):\n",
      "  File \"/opt/conda/lib/python3.5/site-packages/optlang/glpk_interface.py\", line 352, in set_linear_coefficients\n",
      "    glp_set_obj_coef(self.problem.problem, variable._index, float(coefficient))\n",
      "  File \"/opt/conda/lib/python3.5/site-packages/optlang/glpk_interface.py\", line 352, in set_linear_coefficients\n",
      "    glp_set_obj_coef(self.problem.problem, variable._index, float(coefficient))\n",
      "KeyboardInterrupt\n",
      "  File \"/opt/conda/lib/python3.5/site-packages/optlang/glpk_interface.py\", line 86, in _index\n",
      "    if self.problem is not None:\n",
      "  File \"/opt/conda/lib/python3.5/site-packages/optlang/glpk_interface.py\", line 87, in _index\n",
      "    i = glp_find_col(self.problem.problem, str(self.name))\n",
      "  File \"/opt/conda/lib/python3.5/site-packages/optlang/glpk_interface.py\", line 87, in _index\n",
      "    i = glp_find_col(self.problem.problem, str(self.name))\n",
      "Traceback (most recent call last):\n",
      "Traceback (most recent call last):\n",
      "Traceback (most recent call last):\n",
      "Traceback (most recent call last):\n",
      "Traceback (most recent call last):\n",
      "  File \"/opt/conda/lib/python3.5/multiprocessing/process.py\", line 249, in _bootstrap\n",
      "    self.run()\n",
      "  File \"/opt/conda/lib/python3.5/multiprocessing/process.py\", line 249, in _bootstrap\n",
      "    self.run()\n",
      "  File \"/opt/conda/lib/python3.5/site-packages/optlang/glpk_interface.py\", line 87, in _index\n",
      "    i = glp_find_col(self.problem.problem, str(self.name))\n",
      "  File \"/opt/conda/lib/python3.5/site-packages/optlang/glpk_interface.py\", line 86, in _index\n",
      "    if self.problem is not None:\n",
      "KeyboardInterrupt\n",
      "KeyboardInterrupt\n",
      "  File \"/opt/conda/lib/python3.5/site-packages/optlang/glpk_interface.py\", line 352, in set_linear_coefficients\n",
      "    glp_set_obj_coef(self.problem.problem, variable._index, float(coefficient))\n",
      "KeyboardInterrupt\n",
      "  File \"/opt/conda/lib/python3.5/multiprocessing/process.py\", line 249, in _bootstrap\n",
      "    self.run()\n",
      "  File \"/opt/conda/lib/python3.5/multiprocessing/process.py\", line 249, in _bootstrap\n",
      "    self.run()\n",
      "  File \"/opt/conda/lib/python3.5/multiprocessing/process.py\", line 249, in _bootstrap\n",
      "    self.run()\n",
      "  File \"/opt/conda/lib/python3.5/multiprocessing/process.py\", line 93, in run\n",
      "    self._target(*self._args, **self._kwargs)\n",
      "  File \"/opt/conda/lib/python3.5/multiprocessing/process.py\", line 249, in _bootstrap\n",
      "    self.run()\n",
      "  File \"/opt/conda/lib/python3.5/multiprocessing/process.py\", line 249, in _bootstrap\n",
      "    self.run()\n",
      "Traceback (most recent call last):\n",
      "  File \"/opt/conda/lib/python3.5/multiprocessing/process.py\", line 93, in run\n",
      "    self._target(*self._args, **self._kwargs)\n",
      "KeyboardInterrupt\n",
      "  File \"/opt/conda/lib/python3.5/site-packages/optlang/glpk_interface.py\", line 87, in _index\n",
      "    i = glp_find_col(self.problem.problem, str(self.name))\n",
      "KeyboardInterrupt\n",
      "  File \"/opt/conda/lib/python3.5/multiprocessing/process.py\", line 93, in run\n",
      "    self._target(*self._args, **self._kwargs)\n",
      "  File \"/opt/conda/lib/python3.5/multiprocessing/process.py\", line 93, in run\n",
      "    self._target(*self._args, **self._kwargs)\n",
      "  File \"/opt/conda/lib/python3.5/multiprocessing/pool.py\", line 119, in worker\n",
      "    result = (True, func(*args, **kwds))\n",
      "  File \"/opt/conda/lib/python3.5/multiprocessing/process.py\", line 93, in run\n",
      "    self._target(*self._args, **self._kwargs)\n",
      "  File \"/opt/conda/lib/python3.5/multiprocessing/process.py\", line 93, in run\n",
      "    self._target(*self._args, **self._kwargs)\n",
      "  File \"/opt/conda/lib/python3.5/multiprocessing/pool.py\", line 119, in worker\n",
      "    result = (True, func(*args, **kwds))\n",
      "  File \"/opt/conda/lib/python3.5/multiprocessing/process.py\", line 249, in _bootstrap\n",
      "    self.run()\n",
      "KeyboardInterrupt\n",
      "  File \"/opt/conda/lib/python3.5/multiprocessing/pool.py\", line 119, in worker\n",
      "    result = (True, func(*args, **kwds))\n",
      "  File \"/opt/conda/lib/python3.5/multiprocessing/pool.py\", line 119, in worker\n",
      "    result = (True, func(*args, **kwds))\n",
      "  File \"<ipython-input-23-9847a66c3d0b>\", line 38, in multiple_randomized_analysis\n",
      "    opt_n.build()\n",
      "  File \"/opt/conda/lib/python3.5/multiprocessing/pool.py\", line 119, in worker\n",
      "    result = (True, func(*args, **kwds))\n",
      "  File \"<ipython-input-23-9847a66c3d0b>\", line 42, in multiple_randomized_analysis\n",
      "    targets=get_drugable_targets(model_n, model_c, \"biopsys\" )\n",
      "  File \"<ipython-input-23-9847a66c3d0b>\", line 38, in multiple_randomized_analysis\n",
      "    opt_n.build()\n",
      "  File \"/opt/conda/lib/python3.5/multiprocessing/process.py\", line 93, in run\n",
      "    self._target(*self._args, **self._kwargs)\n",
      "  File \"/opt/conda/lib/python3.5/site-packages/corda/corda.py\", line 272, in build\n",
      "    penalize_medium=False)\n",
      "  File \"<ipython-input-18-b299aa21be4a>\", line 32, in get_drugable_targets\n",
      "    nfba=nmodel.optimize()\n",
      "  File \"<ipython-input-23-9847a66c3d0b>\", line 42, in multiple_randomized_analysis\n",
      "    targets=get_drugable_targets(model_n, model_c, \"biopsys\" )\n",
      "  File \"/opt/conda/lib/python3.5/site-packages/corda/corda.py\", line 236, in build\n",
      "    need = self.associated(include)\n",
      "  File \"/opt/conda/lib/python3.5/multiprocessing/pool.py\", line 119, in worker\n",
      "    result = (True, func(*args, **kwds))\n",
      "  File \"/opt/conda/lib/python3.5/site-packages/cobra/core/model.py\", line 840, in optimize\n",
      "    self.solver.optimize()\n",
      "  File \"/opt/conda/lib/python3.5/site-packages/corda/corda.py\", line 196, in associated\n",
      "    sol = self.model.solver.optimize()\n",
      "  File \"/opt/conda/lib/python3.5/site-packages/corda/corda.py\", line 196, in associated\n",
      "    sol = self.model.solver.optimize()\n",
      "Process ForkPoolWorker-9:\n",
      "  File \"<ipython-input-18-b299aa21be4a>\", line 32, in get_drugable_targets\n",
      "    nfba=nmodel.optimize()\n",
      "  File \"/opt/conda/lib/python3.5/site-packages/optlang/interface.py\", line 1471, in optimize\n",
      "    status = self._optimize()\n",
      "  File \"<ipython-input-23-9847a66c3d0b>\", line 38, in multiple_randomized_analysis\n",
      "    opt_n.build()\n",
      "  File \"/opt/conda/lib/python3.5/site-packages/optlang/interface.py\", line 1468, in optimize\n",
      "    status = self._optimize()\n",
      "  File \"/opt/conda/lib/python3.5/multiprocessing/process.py\", line 93, in run\n",
      "    self._target(*self._args, **self._kwargs)\n"
     ]
    },
    {
     "name": "stderr",
     "output_type": "stream",
     "text": [
      "  File \"/opt/conda/lib/python3.5/multiprocessing/pool.py\", line 119, in worker\n",
      "    result = (True, func(*args, **kwds))\n",
      "  File \"/opt/conda/lib/python3.5/site-packages/cobra/core/model.py\", line 840, in optimize\n",
      "    self.solver.optimize()\n",
      "  File \"/opt/conda/lib/python3.5/site-packages/optlang/interface.py\", line 1468, in optimize\n",
      "    status = self._optimize()\n",
      "  File \"/opt/conda/lib/python3.5/site-packages/optlang/glpk_interface.py\", line 669, in _optimize\n",
      "    status = self._run_glp_simplex()\n",
      "  File \"/opt/conda/lib/python3.5/site-packages/optlang/glpk_interface.py\", line 669, in _optimize\n",
      "    status = self._run_glp_simplex()\n",
      "  File \"/opt/conda/lib/python3.5/site-packages/optlang/glpk_interface.py\", line 643, in _run_glp_simplex\n",
      "    return_value = glp_simplex(self.problem, self.configuration._smcp)\n",
      "  File \"/opt/conda/lib/python3.5/multiprocessing/pool.py\", line 119, in worker\n",
      "    result = (True, func(*args, **kwds))\n",
      "  File \"<ipython-input-23-9847a66c3d0b>\", line 38, in multiple_randomized_analysis\n",
      "    opt_n.build()\n",
      "  File \"/opt/conda/lib/python3.5/site-packages/optlang/glpk_interface.py\", line 669, in _optimize\n",
      "    status = self._run_glp_simplex()\n",
      "  File \"/opt/conda/lib/python3.5/site-packages/optlang/interface.py\", line 1471, in optimize\n",
      "    status = self._optimize()\n",
      "Traceback (most recent call last):\n",
      "  File \"/opt/conda/lib/python3.5/site-packages/optlang/glpk_interface.py\", line 643, in _run_glp_simplex\n",
      "    return_value = glp_simplex(self.problem, self.configuration._smcp)\n",
      "KeyboardInterrupt\n",
      "  File \"/opt/conda/lib/python3.5/site-packages/optlang/glpk_interface.py\", line 643, in _run_glp_simplex\n",
      "    return_value = glp_simplex(self.problem, self.configuration._smcp)\n",
      "  File \"<ipython-input-23-9847a66c3d0b>\", line 38, in multiple_randomized_analysis\n",
      "    opt_n.build()\n",
      "  File \"/opt/conda/lib/python3.5/site-packages/corda/corda.py\", line 272, in build\n",
      "    penalize_medium=False)\n",
      "  File \"/opt/conda/lib/python3.5/site-packages/corda/corda.py\", line 236, in build\n",
      "    need = self.associated(include)\n",
      "  File \"<ipython-input-23-9847a66c3d0b>\", line 38, in multiple_randomized_analysis\n",
      "    opt_n.build()\n",
      "KeyboardInterrupt\n",
      "  File \"/opt/conda/lib/python3.5/site-packages/optlang/glpk_interface.py\", line 669, in _optimize\n",
      "    status = self._run_glp_simplex()\n",
      "  File \"/opt/conda/lib/python3.5/multiprocessing/process.py\", line 249, in _bootstrap\n",
      "    self.run()\n",
      "  File \"/opt/conda/lib/python3.5/site-packages/corda/corda.py\", line 272, in build\n",
      "    penalize_medium=False)\n",
      "  File \"/opt/conda/lib/python3.5/site-packages/optlang/glpk_interface.py\", line 643, in _run_glp_simplex\n",
      "    return_value = glp_simplex(self.problem, self.configuration._smcp)\n",
      "  File \"/opt/conda/lib/python3.5/site-packages/corda/corda.py\", line 202, in associated\n",
      "    sol = self.model.solver.primal_values\n",
      "  File \"/opt/conda/lib/python3.5/site-packages/corda/corda.py\", line 182, in associated\n",
      "    self.__zero_objective()\n",
      "  File \"/opt/conda/lib/python3.5/site-packages/corda/corda.py\", line 272, in build\n",
      "    penalize_medium=False)\n",
      "KeyboardInterrupt\n",
      "  File \"/opt/conda/lib/python3.5/site-packages/corda/corda.py\", line 196, in associated\n",
      "    sol = self.model.solver.optimize()\n",
      "  File \"/opt/conda/lib/python3.5/multiprocessing/process.py\", line 93, in run\n",
      "    self._target(*self._args, **self._kwargs)\n",
      "KeyboardInterrupt\n",
      "  File \"/opt/conda/lib/python3.5/site-packages/corda/corda.py\", line 138, in __zero_objective\n",
      "    {v: 0 for v in self.model.variables})\n",
      "  File \"/opt/conda/lib/python3.5/multiprocessing/pool.py\", line 119, in worker\n",
      "    result = (True, func(*args, **kwds))\n",
      "  File \"/opt/conda/lib/python3.5/site-packages/optlang/interface.py\", line 1234, in primal_values\n",
      "    zip(self._get_variables_names(), self._get_primal_values())\n",
      "  File \"/opt/conda/lib/python3.5/site-packages/optlang/glpk_interface.py\", line 352, in set_linear_coefficients\n",
      "    glp_set_obj_coef(self.problem.problem, variable._index, float(coefficient))\n",
      "  File \"<ipython-input-23-9847a66c3d0b>\", line 38, in multiple_randomized_analysis\n",
      "    opt_n.build()\n",
      "  File \"/opt/conda/lib/python3.5/site-packages/optlang/interface.py\", line 1222, in _get_variables_names\n",
      "    return [variable.name for variable in self.variables]\n",
      "  File \"/opt/conda/lib/python3.5/site-packages/corda/corda.py\", line 272, in build\n",
      "    penalize_medium=False)\n",
      "  File \"/opt/conda/lib/python3.5/site-packages/optlang/interface.py\", line 1222, in <listcomp>\n",
      "    return [variable.name for variable in self.variables]\n",
      "  File \"/opt/conda/lib/python3.5/site-packages/optlang/container.py\", line 76, in __iter__\n",
      "    if original_length != len(self._object_list):\n",
      "Process ForkPoolWorker-15:\n",
      "KeyboardInterrupt\n",
      "  File \"/opt/conda/lib/python3.5/site-packages/corda/corda.py\", line 202, in associated\n",
      "    sol = self.model.solver.primal_values\n",
      "  File \"/opt/conda/lib/python3.5/site-packages/corda/corda.py\", line 196, in associated\n",
      "    sol = self.model.solver.optimize()\n",
      "  File \"/opt/conda/lib/python3.5/site-packages/optlang/interface.py\", line 1468, in optimize\n",
      "    status = self._optimize()\n",
      "  File \"/opt/conda/lib/python3.5/site-packages/optlang/interface.py\", line 443, in problem\n",
      "    return getattr(self, '_problem', None)\n",
      "  File \"/opt/conda/lib/python3.5/site-packages/optlang/interface.py\", line 1234, in primal_values\n",
      "    zip(self._get_variables_names(), self._get_primal_values())\n",
      "Traceback (most recent call last):\n",
      "  File \"/opt/conda/lib/python3.5/site-packages/optlang/interface.py\", line 1468, in optimize\n",
      "    status = self._optimize()\n",
      "KeyboardInterrupt\n",
      "  File \"/opt/conda/lib/python3.5/site-packages/optlang/glpk_interface.py\", line 669, in _optimize\n",
      "    status = self._run_glp_simplex()\n",
      "  File \"/opt/conda/lib/python3.5/multiprocessing/process.py\", line 249, in _bootstrap\n",
      "    self.run()\n",
      "  File \"/opt/conda/lib/python3.5/site-packages/optlang/glpk_interface.py\", line 669, in _optimize\n",
      "    status = self._run_glp_simplex()\n",
      "  File \"/opt/conda/lib/python3.5/multiprocessing/process.py\", line 93, in run\n",
      "    self._target(*self._args, **self._kwargs)\n",
      "  File \"/opt/conda/lib/python3.5/site-packages/optlang/glpk_interface.py\", line 643, in _run_glp_simplex\n",
      "    return_value = glp_simplex(self.problem, self.configuration._smcp)\n",
      "  File \"/opt/conda/lib/python3.5/site-packages/optlang/glpk_interface.py\", line 643, in _run_glp_simplex\n",
      "    return_value = glp_simplex(self.problem, self.configuration._smcp)\n",
      "KeyboardInterrupt\n",
      "KeyboardInterrupt\n",
      "Process ForkPoolWorker-17:\n",
      "  File \"/opt/conda/lib/python3.5/multiprocessing/pool.py\", line 119, in worker\n",
      "    result = (True, func(*args, **kwds))\n",
      "  File \"<ipython-input-23-9847a66c3d0b>\", line 38, in multiple_randomized_analysis\n",
      "    opt_n.build()\n",
      "  File \"/opt/conda/lib/python3.5/site-packages/corda/corda.py\", line 272, in build\n",
      "    penalize_medium=False)\n",
      "  File \"/opt/conda/lib/python3.5/site-packages/corda/corda.py\", line 196, in associated\n",
      "    sol = self.model.solver.optimize()\n",
      "Traceback (most recent call last):\n",
      "  File \"/opt/conda/lib/python3.5/site-packages/optlang/interface.py\", line 1468, in optimize\n",
      "    status = self._optimize()\n",
      "  File \"/opt/conda/lib/python3.5/multiprocessing/process.py\", line 249, in _bootstrap\n",
      "    self.run()\n",
      "  File \"/opt/conda/lib/python3.5/site-packages/optlang/glpk_interface.py\", line 669, in _optimize\n",
      "    status = self._run_glp_simplex()\n",
      "Traceback (most recent call last):\n",
      "  File \"/opt/conda/lib/python3.5/multiprocessing/process.py\", line 93, in run\n",
      "    self._target(*self._args, **self._kwargs)\n",
      "  File \"/opt/conda/lib/python3.5/site-packages/optlang/glpk_interface.py\", line 643, in _run_glp_simplex\n",
      "    return_value = glp_simplex(self.problem, self.configuration._smcp)\n",
      "  File \"/opt/conda/lib/python3.5/multiprocessing/process.py\", line 249, in _bootstrap\n",
      "    self.run()\n",
      "  File \"/opt/conda/lib/python3.5/multiprocessing/pool.py\", line 119, in worker\n",
      "    result = (True, func(*args, **kwds))\n",
      "KeyboardInterrupt\n",
      "  File \"/opt/conda/lib/python3.5/site-packages/optlang/interface.py\", line 1222, in _get_variables_names\n",
      "    return [variable.name for variable in self.variables]\n",
      "  File \"<ipython-input-23-9847a66c3d0b>\", line 42, in multiple_randomized_analysis\n",
      "    targets=get_drugable_targets(model_n, model_c, \"biopsys\" )\n",
      "  File \"/opt/conda/lib/python3.5/site-packages/optlang/interface.py\", line 1222, in <listcomp>\n",
      "    return [variable.name for variable in self.variables]\n"
     ]
    },
    {
     "name": "stderr",
     "output_type": "stream",
     "text": [
      "  File \"<ipython-input-18-b299aa21be4a>\", line 29, in get_drugable_targets\n",
      "    nmodel.reactions.get_by_id(rx).bounds=(-eps,eps)\n",
      "  File \"/opt/conda/lib/python3.5/site-packages/optlang/interface.py\", line 206, in name\n",
      "    return self._name\n",
      "  File \"/opt/conda/lib/python3.5/site-packages/cobra/util/context.py\", line 69, in wrapper\n",
      "    f(self, new_value)\n",
      "KeyboardInterrupt\n",
      "  File \"/opt/conda/lib/python3.5/site-packages/cobra/core/reaction.py\", line 265, in bounds\n",
      "    update_forward_and_reverse_bounds(self)\n",
      "  File \"/opt/conda/lib/python3.5/site-packages/cobra/core/reaction.py\", line 1083, in update_forward_and_reverse_bounds\n",
      "    reaction.reverse_variable._lb = None\n",
      "  File \"/opt/conda/lib/python3.5/site-packages/cobra/core/reaction.py\", line 162, in reverse_variable\n",
      "    self.reverse_id]\n",
      "  File \"/opt/conda/lib/python3.5/site-packages/cobra/core/reaction.py\", line 111, in reverse_id\n",
      "    self.id.encode('utf-8')).hexdigest()[0:5]))\n",
      "KeyboardInterrupt\n",
      "  File \"/opt/conda/lib/python3.5/multiprocessing/process.py\", line 93, in run\n",
      "    self._target(*self._args, **self._kwargs)\n",
      "Process ForkPoolWorker-23:\n",
      "  File \"/opt/conda/lib/python3.5/multiprocessing/pool.py\", line 119, in worker\n",
      "    result = (True, func(*args, **kwds))\n",
      "Traceback (most recent call last):\n",
      "  File \"<ipython-input-23-9847a66c3d0b>\", line 38, in multiple_randomized_analysis\n",
      "    opt_n.build()\n",
      "  File \"/opt/conda/lib/python3.5/multiprocessing/process.py\", line 249, in _bootstrap\n",
      "    self.run()\n",
      "  File \"/opt/conda/lib/python3.5/site-packages/corda/corda.py\", line 272, in build\n",
      "    penalize_medium=False)\n",
      "  File \"/opt/conda/lib/python3.5/multiprocessing/process.py\", line 93, in run\n",
      "    self._target(*self._args, **self._kwargs)\n",
      "  File \"/opt/conda/lib/python3.5/site-packages/corda/corda.py\", line 196, in associated\n",
      "    sol = self.model.solver.optimize()\n",
      "  File \"/opt/conda/lib/python3.5/multiprocessing/pool.py\", line 119, in worker\n",
      "    result = (True, func(*args, **kwds))\n",
      "  File \"/opt/conda/lib/python3.5/site-packages/optlang/interface.py\", line 1468, in optimize\n",
      "    status = self._optimize()\n",
      "  File \"/opt/conda/lib/python3.5/site-packages/optlang/glpk_interface.py\", line 669, in _optimize\n",
      "    status = self._run_glp_simplex()\n",
      "  File \"<ipython-input-23-9847a66c3d0b>\", line 38, in multiple_randomized_analysis\n",
      "    opt_n.build()\n",
      "  File \"/opt/conda/lib/python3.5/site-packages/optlang/glpk_interface.py\", line 643, in _run_glp_simplex\n",
      "    return_value = glp_simplex(self.problem, self.configuration._smcp)\n",
      "  File \"/opt/conda/lib/python3.5/site-packages/corda/corda.py\", line 272, in build\n",
      "    penalize_medium=False)\n",
      "KeyboardInterrupt\n",
      "  File \"/opt/conda/lib/python3.5/site-packages/corda/corda.py\", line 196, in associated\n",
      "    sol = self.model.solver.optimize()\n",
      "  File \"/opt/conda/lib/python3.5/site-packages/optlang/interface.py\", line 1468, in optimize\n",
      "    status = self._optimize()\n",
      "  File \"/opt/conda/lib/python3.5/site-packages/optlang/glpk_interface.py\", line 669, in _optimize\n",
      "    status = self._run_glp_simplex()\n",
      "  File \"/opt/conda/lib/python3.5/site-packages/optlang/glpk_interface.py\", line 643, in _run_glp_simplex\n",
      "    return_value = glp_simplex(self.problem, self.configuration._smcp)\n",
      "KeyboardInterrupt\n"
     ]
    },
    {
     "ename": "KeyboardInterrupt",
     "evalue": "",
     "output_type": "error",
     "traceback": [
      "\u001b[0;31m---------------------------------------------------------------------------\u001b[0m",
      "\u001b[0;31mKeyboardInterrupt\u001b[0m                         Traceback (most recent call last)",
      "\u001b[0;32m<ipython-input-23-9847a66c3d0b>\u001b[0m in \u001b[0;36m<module>\u001b[0;34m()\u001b[0m\n\u001b[1;32m     51\u001b[0m \u001b[0;34m\u001b[0m\u001b[0m\n\u001b[1;32m     52\u001b[0m \u001b[0mpool\u001b[0m\u001b[0;34m.\u001b[0m\u001b[0mclose\u001b[0m\u001b[0;34m(\u001b[0m\u001b[0;34m)\u001b[0m\u001b[0;34m\u001b[0m\u001b[0m\n\u001b[0;32m---> 53\u001b[0;31m \u001b[0mpool\u001b[0m\u001b[0;34m.\u001b[0m\u001b[0mjoin\u001b[0m\u001b[0;34m(\u001b[0m\u001b[0;34m)\u001b[0m\u001b[0;34m\u001b[0m\u001b[0m\n\u001b[0m",
      "\u001b[0;32m/opt/conda/lib/python3.5/multiprocessing/pool.py\u001b[0m in \u001b[0;36mjoin\u001b[0;34m(self)\u001b[0m\n\u001b[1;32m    508\u001b[0m         \u001b[0mutil\u001b[0m\u001b[0;34m.\u001b[0m\u001b[0mdebug\u001b[0m\u001b[0;34m(\u001b[0m\u001b[0;34m'joining pool'\u001b[0m\u001b[0;34m)\u001b[0m\u001b[0;34m\u001b[0m\u001b[0m\n\u001b[1;32m    509\u001b[0m         \u001b[0;32massert\u001b[0m \u001b[0mself\u001b[0m\u001b[0;34m.\u001b[0m\u001b[0m_state\u001b[0m \u001b[0;32min\u001b[0m \u001b[0;34m(\u001b[0m\u001b[0mCLOSE\u001b[0m\u001b[0;34m,\u001b[0m \u001b[0mTERMINATE\u001b[0m\u001b[0;34m)\u001b[0m\u001b[0;34m\u001b[0m\u001b[0m\n\u001b[0;32m--> 510\u001b[0;31m         \u001b[0mself\u001b[0m\u001b[0;34m.\u001b[0m\u001b[0m_worker_handler\u001b[0m\u001b[0;34m.\u001b[0m\u001b[0mjoin\u001b[0m\u001b[0;34m(\u001b[0m\u001b[0;34m)\u001b[0m\u001b[0;34m\u001b[0m\u001b[0m\n\u001b[0m\u001b[1;32m    511\u001b[0m         \u001b[0mself\u001b[0m\u001b[0;34m.\u001b[0m\u001b[0m_task_handler\u001b[0m\u001b[0;34m.\u001b[0m\u001b[0mjoin\u001b[0m\u001b[0;34m(\u001b[0m\u001b[0;34m)\u001b[0m\u001b[0;34m\u001b[0m\u001b[0m\n\u001b[1;32m    512\u001b[0m         \u001b[0mself\u001b[0m\u001b[0;34m.\u001b[0m\u001b[0m_result_handler\u001b[0m\u001b[0;34m.\u001b[0m\u001b[0mjoin\u001b[0m\u001b[0;34m(\u001b[0m\u001b[0;34m)\u001b[0m\u001b[0;34m\u001b[0m\u001b[0m\n",
      "\u001b[0;32m/opt/conda/lib/python3.5/threading.py\u001b[0m in \u001b[0;36mjoin\u001b[0;34m(self, timeout)\u001b[0m\n\u001b[1;32m   1052\u001b[0m \u001b[0;34m\u001b[0m\u001b[0m\n\u001b[1;32m   1053\u001b[0m         \u001b[0;32mif\u001b[0m \u001b[0mtimeout\u001b[0m \u001b[0;32mis\u001b[0m \u001b[0;32mNone\u001b[0m\u001b[0;34m:\u001b[0m\u001b[0;34m\u001b[0m\u001b[0m\n\u001b[0;32m-> 1054\u001b[0;31m             \u001b[0mself\u001b[0m\u001b[0;34m.\u001b[0m\u001b[0m_wait_for_tstate_lock\u001b[0m\u001b[0;34m(\u001b[0m\u001b[0;34m)\u001b[0m\u001b[0;34m\u001b[0m\u001b[0m\n\u001b[0m\u001b[1;32m   1055\u001b[0m         \u001b[0;32melse\u001b[0m\u001b[0;34m:\u001b[0m\u001b[0;34m\u001b[0m\u001b[0m\n\u001b[1;32m   1056\u001b[0m             \u001b[0;31m# the behavior of a negative timeout isn't documented, but\u001b[0m\u001b[0;34m\u001b[0m\u001b[0;34m\u001b[0m\u001b[0m\n",
      "\u001b[0;32m/opt/conda/lib/python3.5/threading.py\u001b[0m in \u001b[0;36m_wait_for_tstate_lock\u001b[0;34m(self, block, timeout)\u001b[0m\n\u001b[1;32m   1068\u001b[0m         \u001b[0;32mif\u001b[0m \u001b[0mlock\u001b[0m \u001b[0;32mis\u001b[0m \u001b[0;32mNone\u001b[0m\u001b[0;34m:\u001b[0m  \u001b[0;31m# already determined that the C code is done\u001b[0m\u001b[0;34m\u001b[0m\u001b[0m\n\u001b[1;32m   1069\u001b[0m             \u001b[0;32massert\u001b[0m \u001b[0mself\u001b[0m\u001b[0;34m.\u001b[0m\u001b[0m_is_stopped\u001b[0m\u001b[0;34m\u001b[0m\u001b[0m\n\u001b[0;32m-> 1070\u001b[0;31m         \u001b[0;32melif\u001b[0m \u001b[0mlock\u001b[0m\u001b[0;34m.\u001b[0m\u001b[0macquire\u001b[0m\u001b[0;34m(\u001b[0m\u001b[0mblock\u001b[0m\u001b[0;34m,\u001b[0m \u001b[0mtimeout\u001b[0m\u001b[0;34m)\u001b[0m\u001b[0;34m:\u001b[0m\u001b[0;34m\u001b[0m\u001b[0m\n\u001b[0m\u001b[1;32m   1071\u001b[0m             \u001b[0mlock\u001b[0m\u001b[0;34m.\u001b[0m\u001b[0mrelease\u001b[0m\u001b[0;34m(\u001b[0m\u001b[0;34m)\u001b[0m\u001b[0;34m\u001b[0m\u001b[0m\n\u001b[1;32m   1072\u001b[0m             \u001b[0mself\u001b[0m\u001b[0;34m.\u001b[0m\u001b[0m_stop\u001b[0m\u001b[0;34m(\u001b[0m\u001b[0;34m)\u001b[0m\u001b[0;34m\u001b[0m\u001b[0m\n",
      "\u001b[0;31mKeyboardInterrupt\u001b[0m: "
     ]
    },
    {
     "name": "stdout",
     "output_type": "stream",
     "text": [
      "Common reactions size 1106\n",
      "Normal unique reactions size 1210\n",
      "Disease unique reactions size 1165\n"
     ]
    },
    {
     "name": "stderr",
     "output_type": "stream",
     "text": [
      "cobra/util/solver.py:404 \u001b[1;31mUserWarning\u001b[0m: solver status is 'infeasible'\n"
     ]
    }
   ],
   "source": [
    "import multiprocessing as mp\n",
    "from corda import CORDA\n",
    "import string\n",
    "\n",
    "output = mp.Queue(maxsize=24)\n",
    "\n",
    "# define a example function\n",
    "def multiple_randomized_analysis(modelC, modelN, Recon, pos):\n",
    "    cConf_scores=randomize_model(modelC)\n",
    "    nConf_scores=randomize_model(modelN)\n",
    "\n",
    "\n",
    "    cConf_scores[\"biomass_reaction\"]=3\n",
    "    cConf_scores[\"biomass_DNA\"]=3\n",
    "    cConf_scores[\"biomass_RNA\"]=3\n",
    "    cConf_scores[\"biomass_carbohydrate\"]=3\n",
    "    cConf_scores[\"biomass_lipid\"]=3\n",
    "    cConf_scores[\"biomass_other\"]=3\n",
    "    cConf_scores[\"biomass_protein\"]=3\n",
    "    cConf_scores[\"DM_atp_c_\"]=3\n",
    "\n",
    "    nConf_scores[\"biomass_reaction\"]=3\n",
    "    nConf_scores[\"biomass_DNA\"]=3\n",
    "    nConf_scores[\"biomass_RNA\"]=3\n",
    "    nConf_scores[\"biomass_carbohydrate\"]=3\n",
    "    nConf_scores[\"biomass_lipid\"]=3\n",
    "    nConf_scores[\"biomass_other\"]=3\n",
    "    nConf_scores[\"biomass_protein\"]=3\n",
    "    nConf_scores[\"DM_atp_c_\"]=3\n",
    "    \n",
    "    Recon.objective=\"biomass_reaction\"\n",
    "    \n",
    "    metas = ['adp_c', 'atp_c','glc_D_c',  'fru_c', 'nad_c', 'nadh_c','nad_m', 'nadh_m','nadph_c', 'nadph_m', 'nadp_c', 'nadp_m', 'cmp_c', 'HC00342_c', 'glcn_c', 'citr_L_c', 'glyb_c', 'icit_c', '3pg_c', 'accoa_m ->coa_m', 'akg_m', 'e4p_c', 'f6p_c', 'g3p_c', 'g6p_c', 'oaa_m', 'pep_c', 'pyr_c', 'r5p_c', 'succoa_m ->coa_m', 'ala_L_c', 'arg_L_c', 'asn_L_c', 'asp_L_c', 'val_L_c', 'adp_c', 'thr_L_c', 'leu_L_c', 'gln_L_c', 'glu_L_c', 'gly_c', 'pro_D_c', 'pro_L_c', 'ser_L_c', 'ctp_c', 'fdp_c','utp_c', 'pmtcoa_c -> coa_c', 'chsterol_c', 'dag_hs_c', 'tag_hs_c', 'mag_hs_c', 'gthox_c','gthrd_c','ru5p_D_c','crm_hs_c', 'pa_hs_c', 'pe_hs_c', 'ps_hs_c', 'hxan_c', 'creat_c', 'crtn_c', 'chol_c', 'orn_c', '4hpro_LT_c', 's7p_c', 'amp_c', 'udp_c', 'ade_c', 'asp_D_c', 'adn_c', 'ump_c', 'his_L_c', 'tyr_L_c', 'phe_L_c', 'gdp_c', 'ctp_c', 'cys_L_c', 'amet_c', 'cit_c', 'tym_c', 'succ_c', 'CE1936_c', 'gua_c', 'cdp_c', 'g1p_c', 'lys_L_c', 'bhb_c', 'ile_L_c', 'gmp_c', 'dhap_c', 'fum_c', 'mal_L_c', 'spmd_c', 'ala_B_c', 'trp_L_c', 'lac_L_c', 'met_L_c', 'ptrc_c', '4abut_c','0.014 biomass_DNA_c + 0.058 biomass_RNA_c + 0.071 biomass_carbohydrate_c + 0.097 biomass_lipid_c + 0.054 biomass_other_c + 0.706 biomass_protein_c --> ']\n",
    "    \n",
    "    opt_c= CORDA(model=Recon, confidence=cConf_scores, n=5, met_prod=metas,  penalty_factor=1000 ) \n",
    "    opt_n= CORDA(model=Recon, confidence=nConf_scores, n=5, met_prod=metas,  penalty_factor=1000 ) \n",
    "    opt_c.build()\n",
    "    opt_n.build()\n",
    "    model_c=opt_c.cobra_model(name=\"C\")\n",
    "    model_n=opt_n.cobra_model(name=\"N\")\n",
    "     \n",
    "    targets=get_drugable_targets(model_n, model_c, \"biopsys\" )\n",
    "    f=\"Targets_pf_1000_Biopsys_\" + str(pos) + \".tsv\"                                                                  \n",
    "    targets.to_csv(f)\n",
    "\n",
    "# Setup a list of processes that we want to run\n",
    "pool = mp.Pool(processes=24)\n",
    "\n",
    "for i in range(1,49):\n",
    "    pool.apply_async(multiple_randomized_analysis, args=(conf_MeanCancerBiopsy,conf_MeanNormalBiopsy,Recon2,i))\n",
    "\n",
    "pool.close()\n",
    "pool.join()\n"
   ]
  },
  {
   "cell_type": "markdown",
   "metadata": {},
   "source": [
    "from corda import CORDA\n",
    "\n",
    "def randomized_analysis(modelC, modelN, Recon):\n",
    "    cConf_scores=randomize_model(modelC)\n",
    "    nConf_scores=randomize_model(modelN)\n",
    "    \n",
    "    metas = ['adp_c', 'atp_c','glc_D_c',  'fru_c', 'nad_c', 'nadh_c','nad_m', 'nadh_m','nadph_c', 'nadph_m', 'nadp_c', 'nadp_m', 'cmp_c', 'HC00342_c', 'glcn_c', 'citr_L_c', 'glyb_c', 'icit_c', '3pg_c', 'accoa_m ->coa_m', 'akg_m', 'e4p_c', 'f6p_c', 'g3p_c', 'g6p_c', 'oaa_m', 'pep_c', 'pyr_c', 'r5p_c', 'succoa_m ->coa_m', 'ala_L_c', 'arg_L_c', 'asn_L_c', 'asp_L_c', 'val_L_c', 'adp_c', 'thr_L_c', 'leu_L_c', 'gln_L_c', 'glu_L_c', 'gly_c', 'pro_D_c', 'pro_L_c', 'ser_L_c', 'ctp_c', 'fdp_c','utp_c', 'pmtcoa_c -> coa_c', 'chsterol_c', 'dag_hs_c', 'tag_hs_c', 'mag_hs_c', 'gthox_c','gthrd_c','ru5p_D_c','crm_hs_c', 'pa_hs_c', 'pe_hs_c', 'ps_hs_c', 'hxan_c', 'creat_c', 'crtn_c', 'chol_c', 'orn_c', '4hpro_LT_c', 's7p_c', 'amp_c', 'udp_c', 'ade_c', 'asp_D_c', 'adn_c', 'ump_c', 'his_L_c', 'tyr_L_c', 'phe_L_c', 'gdp_c', 'ctp_c', 'cys_L_c', 'amet_c', 'cit_c', 'tym_c', 'succ_c', 'CE1936_c', 'gua_c', 'cdp_c', 'g1p_c', 'lys_L_c', 'bhb_c', 'ile_L_c', 'gmp_c', 'dhap_c', 'fum_c', 'mal_L_c', 'spmd_c', 'ala_B_c', 'trp_L_c', 'lac_L_c', 'met_L_c', 'ptrc_c', '4abut_c','0.014 biomass_DNA_c + 0.058 biomass_RNA_c + 0.071 biomass_carbohydrate_c + 0.097 biomass_lipid_c + 0.054 biomass_other_c + 0.706 biomass_protein_c --> ']    \n",
    " \n",
    "    opt_c= CORDA(model=Recon, confidence=cConf_scores, n=5, met_prod=metas,  penalty_factor=2500 ) \n",
    "    opt_n= CORDA(model=Recon, confidence=nConf_scores, n=5, met_prod=metas,  penalty_factor=2500 ) \n",
    "    opt_c.build()\n",
    "    opt_n.build()\n",
    "    model_c=opt_c.cobra_model(name=\"C\")\n",
    "    model_n=opt_n.cobra_model(name=\"N\")\n",
    "\n",
    "    targets=get_drugable_targets(model_n, model_c, \"biopsys\" )\n",
    "    targets.to_csv(\"Targets.tsv\",sep=\"\\t\")\n",
    "    targets=targets[ (targets[\"norm_dise_ratio\"] > 1.000001) ].sort_values(by=\"norm_dise_ratio\", ascending=False)\n",
    "    targets.to_csv(\"Targets2_pf_2500.tsv\",sep=\"\\t\")\n",
    "\n",
    "    \n",
    "randomized_analysis(modelC=conf_CancerBiopsy,  modelN=conf_NormalBiopsy, Recon=Recon2)\n"
   ]
  },
  {
   "cell_type": "code",
   "execution_count": null,
   "metadata": {
    "collapsed": true
   },
   "outputs": [],
   "source": [
    "%matplotlib inline\n",
    "\n",
    "from mpl_toolkits import mplot3d\n",
    "import numpy as np\n",
    "import matplotlib.pyplot as plt\n",
    "\n",
    "fig = plt.figure()\n",
    "ax = plt.axes(projection='3d')\n",
    "\n",
    "ax = plt.axes(projection='3d')\n",
    "\n",
    "# Data for a three-dimensional line\n",
    "zline = np.linspace(0, 15, 1000)\n",
    "xline = np.sin(zline)\n",
    "yline = np.cos(zline)\n",
    "ax.plot3D(xline, yline, zline, 'gray')\n",
    "\n",
    "# Data for three-dimensional scattered points\n",
    "zdata = 15 * np.random.random(100)\n",
    "xdata = np.sin(zdata) + 0.1 * np.random.randn(100)\n",
    "ydata = np.cos(zdata) + 0.1 * np.random.randn(100)\n",
    "ax.scatter3D(xdata, ydata, zdata, c=zdata, cmap='Greens');"
   ]
  },
  {
   "cell_type": "code",
   "execution_count": null,
   "metadata": {
    "collapsed": true
   },
   "outputs": [],
   "source": [
    "def f(x, y):\n",
    "    return np.sin(np.sqrt(x ** 2 + y ** 2))\n",
    "\n",
    "x = np.linspace(-6, 6, 30)\n",
    "y = np.linspace(-6, 6, 30)\n",
    "\n",
    "X, Y = np.meshgrid(x, y)\n",
    "Z = f(X, Y)\n",
    "fig = plt.figure()\n",
    "ax = plt.axes(projection='3d')\n",
    "ax.contour3D(X, Y, Z, 50, cmap='binary')\n",
    "ax.set_xlabel('x')\n",
    "ax.set_ylabel('y')\n",
    "ax.set_zlabel('z');\n"
   ]
  },
  {
   "cell_type": "code",
   "execution_count": null,
   "metadata": {
    "collapsed": true
   },
   "outputs": [],
   "source": [
    "import pandas as pd\n",
    " "
   ]
  },
  {
   "cell_type": "code",
   "execution_count": null,
   "metadata": {
    "collapsed": true
   },
   "outputs": [],
   "source": []
  }
 ],
 "metadata": {
  "kernelspec": {
   "display_name": "Python 3",
   "language": "python",
   "name": "python3"
  },
  "language_info": {
   "codemirror_mode": {
    "name": "ipython",
    "version": 3
   },
   "file_extension": ".py",
   "mimetype": "text/x-python",
   "name": "python",
   "nbconvert_exporter": "python",
   "pygments_lexer": "ipython3",
   "version": "3.5.3"
  }
 },
 "nbformat": 4,
 "nbformat_minor": 2
}
