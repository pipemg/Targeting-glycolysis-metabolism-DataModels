{
 "cells": [
  {
   "cell_type": "code",
   "execution_count": 5,
   "metadata": {},
   "outputs": [
    {
     "name": "stderr",
     "output_type": "stream",
     "text": [
      "cobra/io/sbml.py:235 \u001b[1;31mUserWarning\u001b[0m: M_h_x appears as a reactant and product FAOXC220200x\n"
     ]
    }
   ],
   "source": [
    "import cobra\n",
    "#!wget http://www.ebi.ac.uk/biomodels-main/download?mid=MODEL1603150001 -O recon2.2.xml\n",
    "Recon2 = cobra.io.read_sbml_model(\"Models/recon2.2.xml\")\n",
    "#Recon2 = cobra.io.load_matlab_model(\"Models/Recon2.v04.mat\")"
   ]
  },
  {
   "cell_type": "code",
   "execution_count": 6,
   "metadata": {},
   "outputs": [
    {
     "name": "stdout",
     "output_type": "stream",
     "text": [
      "Reactions: 7785\n",
      "Metabolites: 5324\n",
      "<Solution 555.786 at 0x7f8d8c337f60>\n"
     ]
    }
   ],
   "source": [
    "print(\"Reactions:\", len(Recon2.reactions))\n",
    "print(\"Metabolites:\", len(Recon2.metabolites))\n",
    "print(Recon2.optimize())"
   ]
  },
  {
   "cell_type": "code",
   "execution_count": 7,
   "metadata": {
    "collapsed": true
   },
   "outputs": [],
   "source": [
    "for rxex in Recon2.exchanges:\n",
    "    rxex.bounds=(-0.01,10)\n",
    "\n",
    "### Western Diet\n",
    "#### Sugars\n",
    "Recon2.reactions.get_by_id(\"EX_arab_L_LPAREN_e_RPAREN_\").lower_bound=-0.17878295 \n",
    "#Cellobiose not in Humana\n",
    "#Recon2.reactions.get_by_id(\"EX_drib_LPAREN_e_RPAREN_\").lower_bound=-0.17878295 #????\n",
    "Recon2.reactions.get_by_id(\"EX_fru_LPAREN_e_RPAREN_\").lower_bound=-0.14898579\n",
    "Recon2.reactions.get_by_id(\"EX_fuc_L_LPAREN_e_RPAREN_\").lower_bound=-0.14898579 \n",
    "Recon2.reactions.get_by_id(\"EX_gal_LPAREN_e_RPAREN_\").lower_bound=-0.14898579 \n",
    "Recon2.reactions.get_by_id(\"EX_glc_LPAREN_e_RPAREN_\").lower_bound=-0.14898579\n",
    "#Falta Ex_glcn en Recon2.2\n",
    "Recon2.reactions.get_by_id(\"EX_lcts_LPAREN_e_RPAREN_\").lower_bound=-0.07449289 \n",
    "Recon2.reactions.get_by_id(\"EX_malt_LPAREN_e_RPAREN_\").lower_bound=-0.07449289 \n",
    "Recon2.reactions.get_by_id(\"EX_man_LPAREN_e_RPAREN_\").lower_bound=-0.14898579 \n",
    "#Melibiose  not in Human\n",
    "#D-Mannitol not in Human\n",
    "Recon2.reactions.get_by_id(\"EX_oxa_LPAREN_e_RPAREN_\").lower_bound=-0.44695737 \n",
    "Recon2.reactions.get_by_id(\"EX_rib_D_LPAREN_e_RPAREN_\").lower_bound=-0.17878295 \n",
    "#L-Rhamnose not in Human\n",
    "Recon2.reactions.get_by_id(\"EX_sucr_LPAREN_e_RPAREN_\").lower_bound=-0.07449289 \n",
    "\n",
    "#Estos no estan en sangre\n",
    "#Recon2.reactions.get_by_id(\"EX_tre_LPAREN_e_RPAREN_\").lower_bound=-0.07449289 \n",
    "#Recon2.reactions.get_by_id(\"EX_xyl_D_LPAREN_e_RPAREN_\").lower_bound=-0.17878295\n",
    "#Recon2.reactions.get_by_id(\"EX_strch1_LPAREN_e_RPAREN_\").lower_bound=-0.25733909 \n",
    "\n",
    "#fiber not in human\n",
    "\n",
    "### Western Diet\n",
    "#### Fat\n",
    "Recon2.reactions.get_by_id(\"EX_arachd_LPAREN_e_RPAREN_\").lower_bound=-0.00332813 \n",
    "Recon2.reactions.get_by_id(\"EX_chsterol_LPAREN_e_RPAREN_\").lower_bound=-0.00495795\n",
    "Recon2.reactions.get_by_id(\"EX_glyc_LPAREN_e_RPAREN_\").lower_bound=-1.79965486 \n",
    "Recon2.reactions.get_by_id(\"EX_hdca_LPAREN_e_RPAREN_\").lower_bound=-0.39637090\n",
    "Recon2.reactions.get_by_id(\"EX_hdcea_LPAREN_e_RPAREN_\").lower_bound=-0.03651697\n",
    "Recon2.reactions.get_by_id(\"EX_lnlc_LPAREN_e_RPAREN_\").lower_bound=-0.35910921\n",
    "Recon2.reactions.get_by_id(\"EX_lnlnca_LPAREN_e_RPAREN_\").lower_bound=-0.01756512\n",
    "Recon2.reactions.get_by_id(\"EX_lnlncg_LPAREN_e_RPAREN_\").lower_bound=-0.01756512\n",
    "Recon2.reactions.get_by_id(\"EX_ocdca_LPAREN_e_RPAREN_\").lower_bound=-0.16928260\n",
    "Recon2.reactions.get_by_id(\"EX_ocdcea_LPAREN_e_RPAREN_\").lower_bound=-0.68144465\n",
    "#No en sangre\n",
    "#Recon2.reactions.get_by_id(\"EX_octa_LPAREN_e_RPAREN_\").lower_bound=-0.01294272\n",
    "#Recon2.reactions.get_by_id(\"EX_ttdca_LPAREN_e_RPAREN_\").lower_bound=-0.06867567\n",
    "\n",
    "### Western Diet\n",
    "#### Protein\n",
    "Recon2.reactions.get_by_id(\"EX_ala_L_LPAREN_e_RPAREN_\").lower_bound=-1\n",
    "Recon2.reactions.get_by_id(\"EX_arg_L_LPAREN_e_RPAREN_\").lower_bound=-0.15\n",
    "Recon2.reactions.get_by_id(\"EX_asn_L_LPAREN_e_RPAREN_\").lower_bound=-0.225\n",
    "Recon2.reactions.get_by_id(\"EX_asp_L_LPAREN_e_RPAREN_\").lower_bound=-0.225\n",
    "Recon2.reactions.get_by_id(\"EX_cys_L_LPAREN_e_RPAREN_\").lower_bound=-1\n",
    "Recon2.reactions.get_by_id(\"EX_gln_L_LPAREN_e_RPAREN_\").lower_bound=-0.18\n",
    "Recon2.reactions.get_by_id(\"EX_glu_L_LPAREN_e_RPAREN_\").lower_bound=-0.18\n",
    "Recon2.reactions.get_by_id(\"EX_gly_LPAREN_e_RPAREN_\").lower_bound=-0.45\n",
    "Recon2.reactions.get_by_id(\"EX_his_L_LPAREN_e_RPAREN_\").lower_bound=-0.15\n",
    "Recon2.reactions.get_by_id(\"EX_ile_L_LPAREN_e_RPAREN_\").lower_bound=-0.15\n",
    "Recon2.reactions.get_by_id(\"EX_leu_L_LPAREN_e_RPAREN_\").lower_bound=-0.15\n",
    "Recon2.reactions.get_by_id(\"EX_lys_L_LPAREN_e_RPAREN_\").lower_bound=-0.15 \n",
    "Recon2.reactions.get_by_id(\"EX_met_L_LPAREN_e_RPAREN_\").lower_bound=-0.18\n",
    "Recon2.reactions.get_by_id(\"EX_phe_L_LPAREN_e_RPAREN_\").lower_bound=-1\n",
    "Recon2.reactions.get_by_id(\"EX_pro_L_LPAREN_e_RPAREN_\").lower_bound=-0.18\n",
    "Recon2.reactions.get_by_id(\"EX_ser_L_LPAREN_e_RPAREN_\").lower_bound=-1\n",
    "Recon2.reactions.get_by_id(\"EX_thr_L_LPAREN_e_RPAREN_\").lower_bound=-0.225\n",
    "Recon2.reactions.get_by_id(\"EX_trp_L_LPAREN_e_RPAREN_\").lower_bound=-0.08181818\n",
    "Recon2.reactions.get_by_id(\"EX_tyr_L_LPAREN_e_RPAREN_\").lower_bound=-1\n",
    "Recon2.reactions.get_by_id(\"EX_val_L_LPAREN_e_RPAREN_\").lower_bound=-0.18\n",
    "\n",
    "### Western Diet\n",
    "#### Minterals, Vitamins, others\n",
    "\n",
    "#12dgr180\n",
    "#26dap_M\n",
    "#2dmmq8\n",
    "#2obut\n",
    "Recon2.reactions.get_by_id(\"EX_3mop_LPAREN_e_RPAREN_\").lower_bound=-1\n",
    "#4abz\n",
    "#4hbz\n",
    "Recon2.reactions.get_by_id(\"EX_ac_LPAREN_e_RPAREN_\").lower_bound=-1\n",
    "Recon2.reactions.get_by_id(\"EX_acgam_LPAREN_e_RPAREN_\").lower_bound=-1\n",
    "#No en sangre acmana\n",
    "#Recon2.reactions.get_by_id(\"EX_acmana_LPAREN_e_RPAREN_\").lower_bound=-1\n",
    "#acnam\n",
    "Recon2.reactions.get_by_id(\"EX_ade_LPAREN_e_RPAREN_\").lower_bound=-1\n",
    "Recon2.reactions.get_by_id(\"EX_adn_LPAREN_e_RPAREN_\").lower_bound=-1\n",
    "#adocbl\n",
    "Recon2.reactions.get_by_id(\"EX_ala_D_LPAREN_e_RPAREN_\").lower_bound=-1\n",
    "Recon2.reactions.get_by_id(\"EX_amp_LPAREN_e_RPAREN_\").lower_bound=-1\n",
    "#arab_D\n",
    "#No en sangre btn\n",
    "#Recon2.reactions.get_by_id(\"EX_btn_LPAREN_e_RPAREN_\").lower_bound=-1\n",
    "Recon2.reactions.get_by_id(\"EX_ca2_LPAREN_e_RPAREN_\").lower_bound=-1\n",
    "#cbl1\n",
    "Recon2.reactions.get_by_id(\"EX_cgly_LPAREN_e_RPAREN_\").lower_bound=-1\n",
    "Recon2.reactions.get_by_id(\"EX_chol_LPAREN_e_RPAREN_\").lower_bound=-1\n",
    "Recon2.reactions.get_by_id(\"EX_cit_LPAREN_e_RPAREN_\").lower_bound=-1\n",
    "Recon2.reactions.get_by_id(\"EX_cl_LPAREN_e_RPAREN_\").lower_bound=-1\n",
    "#cobalt2\n",
    "Recon2.reactions.get_by_id(\"EX_csn_LPAREN_e_RPAREN_\").lower_bound=-1\n",
    "#cu2\n",
    "Recon2.reactions.get_by_id(\"EX_dad_2_LPAREN_e_RPAREN_\").lower_bound=-1\n",
    "Recon2.reactions.get_by_id(\"EX_dcyt_LPAREN_e_RPAREN_\").lower_bound=-1\n",
    "Recon2.reactions.get_by_id(\"EX_ddca_LPAREN_e_RPAREN_\").lower_bound=-1\n",
    "Recon2.reactions.get_by_id(\"EX_dgsn_LPAREN_e_RPAREN_\").lower_bound=-1\n",
    "Recon2.reactions.get_by_id(\"EX_fe2_LPAREN_e_RPAREN_\").lower_bound=-1\n",
    "# Methemoglobin normalmente no en sangre\n",
    "#Recon2.reactions.get_by_id(\"EX_fe3_LPAREN_e_RPAREN_\").lower_bound=-1\n",
    "#fe3dcit\n",
    "Recon2.reactions.get_by_id(\"EX_fald_LPAREN_e_RPAREN_\").lower_bound=-1\n",
    "Recon2.reactions.get_by_id(\"EX_fol_LPAREN_e_RPAREN_\").lower_bound=-1\n",
    "Recon2.reactions.get_by_id(\"EX_for_LPAREN_e_RPAREN_\").lower_bound=-1\n",
    "Recon2.reactions.get_by_id(\"EX_fum_LPAREN_e_RPAREN_\").lower_bound=-1\n",
    "Recon2.reactions.get_by_id(\"EX_gam_LPAREN_e_RPAREN_\").lower_bound=-1\n",
    "Recon2.reactions.get_by_id(\"EX_glu_L_LPAREN_e_RPAREN_\").lower_bound=-1\n",
    "Recon2.reactions.get_by_id(\"EX_glyc3p_LPAREN_e_RPAREN_\").lower_bound=-1\n",
    "Recon2.reactions.get_by_id(\"EX_gthox_LPAREN_e_RPAREN_\").lower_bound=-1\n",
    "Recon2.reactions.get_by_id(\"EX_gthrd_LPAREN_e_RPAREN_\").lower_bound=-1\n",
    "Recon2.reactions.get_by_id(\"EX_gua_LPAREN_e_RPAREN_\").lower_bound=-1\n",
    "Recon2.reactions.get_by_id(\"EX_h_LPAREN_e_RPAREN_\").lower_bound=-1\n",
    "Recon2.reactions.get_by_id(\"EX_h2o_LPAREN_e_RPAREN_\").lower_bound=-10\n",
    "Recon2.reactions.get_by_id(\"EX_h2o2_LPAREN_e_RPAREN_\").lower_bound=-0.01\n",
    "\n",
    "#h2s\n",
    "Recon2.reactions.get_by_id(\"EX_hxan_LPAREN_e_RPAREN_\").lower_bound=-1\n",
    "#indole\n",
    "Recon2.reactions.get_by_id(\"EX_k_LPAREN_e_RPAREN_\").lower_bound=-1\n",
    "#lanost\n",
    "Recon2.reactions.get_by_id(\"EX_meoh_LPAREN_e_RPAREN_\").lower_bound=-10\n",
    "#metsox_S_L\n",
    "#mg2\n",
    "#mn2\n",
    "#mobd\n",
    "#mqn8\n",
    "Recon2.reactions.get_by_id(\"EX_na1_LPAREN_e_RPAREN_\").lower_bound=-1\n",
    "Recon2.reactions.get_by_id(\"EX_nac_LPAREN_e_RPAREN_\").lower_bound=-1\n",
    "Recon2.reactions.get_by_id(\"EX_ncam_LPAREN_e_RPAREN_\").lower_bound=-1\n",
    "#nmn nmn_e doesn't exists in Recon 2.2 \n",
    "Recon2.reactions.get_by_id(\"EX_no2_LPAREN_e_RPAREN_\").lower_bound=-1\n",
    "Recon2.reactions.get_by_id(\"EX_orn_LPAREN_e_RPAREN_\").lower_bound=-1\n",
    "# No en sangre\n",
    "#Recon2.reactions.get_by_id(\"EX_pheme_LPAREN_e_RPAREN_\").lower_bound=-1\n",
    "\n",
    "Recon2.reactions.get_by_id(\"EX_pi_LPAREN_e_RPAREN_\").lower_bound=-1\n",
    "#Pimelate  not in Human\n",
    "Recon2.reactions.get_by_id(\"EX_pnto_R_LPAREN_e_RPAREN_\").lower_bound=-1\n",
    "Recon2.reactions.get_by_id(\"EX_ptrc_LPAREN_e_RPAREN_\").lower_bound=-1\n",
    "# No en sangre\n",
    "#Recon2.reactions.get_by_id(\"EX_pydam_LPAREN_e_RPAREN_\").lower_bound=-1\n",
    "Recon2.reactions.get_by_id(\"EX_pydx_LPAREN_e_RPAREN_\").lower_bound=-1\n",
    "Recon2.reactions.get_by_id(\"EX_pydx5p_LPAREN_e_RPAREN_\").lower_bound=-1\n",
    "Recon2.reactions.get_by_id(\"EX_pydxn_LPAREN_e_RPAREN_\").lower_bound=-1\n",
    "#ubiquinone-8 not in Human\n",
    "Recon2.reactions.get_by_id(\"EX_ribflv_LPAREN_e_RPAREN_\").lower_bound=-1\n",
    "#No en sangre\n",
    "Recon2.reactions.get_by_id(\"EX_sel_LPAREN_e_RPAREN_\").lower_bound=-1\n",
    "#Siroheme not in Human\n",
    "Recon2.reactions.get_by_id(\"EX_so4_LPAREN_e_RPAREN_\").lower_bound=-1\n",
    "Recon2.reactions.get_by_id(\"EX_spmd_LPAREN_e_RPAREN_\").lower_bound=-1\n",
    "Recon2.reactions.get_by_id(\"EX_thm_LPAREN_e_RPAREN_\").lower_bound=-1\n",
    "Recon2.reactions.get_by_id(\"EX_thymd_LPAREN_e_RPAREN_\").lower_bound=-1\n",
    "Recon2.reactions.get_by_id(\"EX_ura_LPAREN_e_RPAREN_\").lower_bound=-1\n",
    "Recon2.reactions.get_by_id(\"EX_uri_LPAREN_e_RPAREN_\").lower_bound=-1\n",
    "#Xanthine not in Human\n",
    "#zn2 not in Human\n",
    "\n",
    "Recon2.reactions.biomass_reaction.lower_bound=0.008\n",
    "Recon2.reactions.biomass_reaction.upper_bound=0.1\n",
    "\n"
   ]
  },
  {
   "cell_type": "code",
   "execution_count": 8,
   "metadata": {},
   "outputs": [
    {
     "data": {
      "text/plain": [
       "<Solution 0.100 at 0x7f8d8c1a1a20>"
      ]
     },
     "execution_count": 8,
     "metadata": {},
     "output_type": "execute_result"
    }
   ],
   "source": [
    "Recon2.optimize()"
   ]
  },
  {
   "cell_type": "code",
   "execution_count": 9,
   "metadata": {},
   "outputs": [
    {
     "data": {
      "text/html": [
       "<div>\n",
       "<style>\n",
       "    .dataframe thead tr:only-child th {\n",
       "        text-align: right;\n",
       "    }\n",
       "\n",
       "    .dataframe thead th {\n",
       "        text-align: left;\n",
       "    }\n",
       "\n",
       "    .dataframe tbody tr th {\n",
       "        vertical-align: top;\n",
       "    }\n",
       "</style>\n",
       "<table border=\"1\" class=\"dataframe\">\n",
       "  <thead>\n",
       "    <tr style=\"text-align: right;\">\n",
       "      <th></th>\n",
       "      <th>CancerBiopsyHGU133A</th>\n",
       "      <th>NormalBiopsyHGU133A</th>\n",
       "      <th>CancerBiopsyHGU133Plus2</th>\n",
       "      <th>NormalBiopsyHGU133APlus2</th>\n",
       "      <th>MaxCancerBiopsy</th>\n",
       "      <th>MaxNormalBiopsy</th>\n",
       "      <th>MeanCancerBiopsy</th>\n",
       "      <th>MeanNormalBiopsy</th>\n",
       "    </tr>\n",
       "  </thead>\n",
       "  <tbody>\n",
       "    <tr>\n",
       "      <th>HGNC:10006</th>\n",
       "      <td>0.000000</td>\n",
       "      <td>0.0000</td>\n",
       "      <td>0.000000</td>\n",
       "      <td>0.0</td>\n",
       "      <td>0.000000</td>\n",
       "      <td>0.0000</td>\n",
       "      <td>0.000000</td>\n",
       "      <td>0.00000</td>\n",
       "    </tr>\n",
       "    <tr>\n",
       "      <th>HGNC:1027</th>\n",
       "      <td>0.015625</td>\n",
       "      <td>0.0625</td>\n",
       "      <td>0.116667</td>\n",
       "      <td>0.0</td>\n",
       "      <td>0.116667</td>\n",
       "      <td>0.0625</td>\n",
       "      <td>0.066146</td>\n",
       "      <td>0.03125</td>\n",
       "    </tr>\n",
       "    <tr>\n",
       "      <th>HGNC:10293</th>\n",
       "      <td>0.000000</td>\n",
       "      <td>0.0000</td>\n",
       "      <td>0.483333</td>\n",
       "      <td>0.0</td>\n",
       "      <td>0.483333</td>\n",
       "      <td>0.0000</td>\n",
       "      <td>0.241667</td>\n",
       "      <td>0.00000</td>\n",
       "    </tr>\n",
       "    <tr>\n",
       "      <th>HGNC:10297</th>\n",
       "      <td>0.000000</td>\n",
       "      <td>0.0000</td>\n",
       "      <td>0.541667</td>\n",
       "      <td>0.0</td>\n",
       "      <td>0.541667</td>\n",
       "      <td>0.0000</td>\n",
       "      <td>0.270833</td>\n",
       "      <td>0.00000</td>\n",
       "    </tr>\n",
       "    <tr>\n",
       "      <th>HGNC:10451</th>\n",
       "      <td>0.878472</td>\n",
       "      <td>0.6000</td>\n",
       "      <td>1.000000</td>\n",
       "      <td>0.5</td>\n",
       "      <td>1.000000</td>\n",
       "      <td>0.6000</td>\n",
       "      <td>0.939236</td>\n",
       "      <td>0.55000</td>\n",
       "    </tr>\n",
       "  </tbody>\n",
       "</table>\n",
       "</div>"
      ],
      "text/plain": [
       "            CancerBiopsyHGU133A  NormalBiopsyHGU133A  CancerBiopsyHGU133Plus2  \\\n",
       "HGNC:10006             0.000000               0.0000                 0.000000   \n",
       "HGNC:1027              0.015625               0.0625                 0.116667   \n",
       "HGNC:10293             0.000000               0.0000                 0.483333   \n",
       "HGNC:10297             0.000000               0.0000                 0.541667   \n",
       "HGNC:10451             0.878472               0.6000                 1.000000   \n",
       "\n",
       "            NormalBiopsyHGU133APlus2  MaxCancerBiopsy  MaxNormalBiopsy  \\\n",
       "HGNC:10006                       0.0         0.000000           0.0000   \n",
       "HGNC:1027                        0.0         0.116667           0.0625   \n",
       "HGNC:10293                       0.0         0.483333           0.0000   \n",
       "HGNC:10297                       0.0         0.541667           0.0000   \n",
       "HGNC:10451                       0.5         1.000000           0.6000   \n",
       "\n",
       "            MeanCancerBiopsy  MeanNormalBiopsy  \n",
       "HGNC:10006          0.000000           0.00000  \n",
       "HGNC:1027           0.066146           0.03125  \n",
       "HGNC:10293          0.241667           0.00000  \n",
       "HGNC:10297          0.270833           0.00000  \n",
       "HGNC:10451          0.939236           0.55000  "
      ]
     },
     "execution_count": 9,
     "metadata": {},
     "output_type": "execute_result"
    }
   ],
   "source": [
    "import pandas as pd\n",
    "ub_scores_matrix =pd.read_csv(\"Binary_Byposys_RECON2_2.tsv\",sep=\",\",index_col=0,header=0)\n",
    "confidence_scores_matrix=ub_scores_matrix.copy()\n",
    "confidence_scores_matrix.head()"
   ]
  },
  {
   "cell_type": "code",
   "execution_count": 10,
   "metadata": {
    "collapsed": true
   },
   "outputs": [],
   "source": [
    "for model in ub_scores_matrix.columns:\n",
    "    #High Confidence rate \n",
    "       \n",
    "    HC=ub_scores_matrix[model][ub_scores_matrix[model] >= .70].index.tolist()\n",
    "    confidence_scores_matrix[model][HC]=3\n",
    "        \n",
    "    #Medium Confidence Rate \n",
    "    MC=ub_scores_matrix[model][(ub_scores_matrix[model] <  .70) & (ub_scores_matrix[model] >= 0.50) ].index.tolist()\n",
    "    confidence_scores_matrix[model][MC]=2\n",
    "        \n",
    "    #Low\n",
    "    LC=ub_scores_matrix[model][(ub_scores_matrix[model] < 0.40) & (ub_scores_matrix[model] >=0.3) ].index.tolist()\n",
    "    confidence_scores_matrix[model][LC]=1\n",
    "    \n",
    "    #unknown\n",
    "    ZC=ub_scores_matrix[model][(ub_scores_matrix[model] <.3) & (ub_scores_matrix[model] >= 0.1) ].index.tolist()\n",
    "    confidence_scores_matrix[model][ZC]=0\n",
    "    \n",
    "    #Negative\n",
    "    NC=ub_scores_matrix[model][(ub_scores_matrix[model] < 0.1)].index.tolist()\n",
    "    confidence_scores_matrix[model][NC]=-1\n",
    " "
   ]
  },
  {
   "cell_type": "code",
   "execution_count": 11,
   "metadata": {
    "collapsed": true
   },
   "outputs": [],
   "source": [
    "from corda import reaction_confidence\n",
    "\n",
    "\n",
    "conf_MeanCancerBiopsy = {}\n",
    "conf_MeanNormalBiopsy = {}\n",
    "\n",
    "for r in Recon2.reactions:\n",
    "    if(r.gene_reaction_rule!=''):\n",
    "        conf_MeanCancerBiopsy[r.id]=reaction_confidence(r.gene_reaction_rule,confidence_scores_matrix[\"MeanCancerBiopsy\"])\n",
    "        conf_MeanNormalBiopsy[r.id]=reaction_confidence(r.gene_reaction_rule,confidence_scores_matrix[\"MeanNormalBiopsy\"])\n",
    "    else:\n",
    "        conf_MeanCancerBiopsy[r.id]=0\n",
    "        conf_MeanNormalBiopsy[r.id]=0"
   ]
  },
  {
   "cell_type": "code",
   "execution_count": 12,
   "metadata": {
    "collapsed": true
   },
   "outputs": [],
   "source": [
    "conf_MeanCancerBiopsy[\"biomass_reaction\"]=3\n",
    "conf_MeanCancerBiopsy[\"biomass_DNA\"]=3\n",
    "conf_MeanCancerBiopsy[\"biomass_RNA\"]=3\n",
    "conf_MeanCancerBiopsy[\"biomass_carbohydrate\"]=3\n",
    "conf_MeanCancerBiopsy[\"biomass_lipid\"]=3\n",
    "conf_MeanCancerBiopsy[\"biomass_other\"]=3\n",
    "conf_MeanCancerBiopsy[\"biomass_protein\"]=3\n",
    "conf_MeanCancerBiopsy[\"DM_atp_c_\"]=3\n",
    "\n",
    "conf_MeanNormalBiopsy[\"biomass_reaction\"]=3\n",
    "conf_MeanNormalBiopsy[\"biomass_DNA\"]=3\n",
    "conf_MeanNormalBiopsy[\"biomass_RNA\"]=3\n",
    "conf_MeanNormalBiopsy[\"biomass_carbohydrate\"]=3\n",
    "conf_MeanNormalBiopsy[\"biomass_lipid\"]=3\n",
    "conf_MeanNormalBiopsy[\"biomass_other\"]=3\n",
    "conf_MeanNormalBiopsy[\"biomass_protein\"]=3\n",
    "conf_MeanNormalBiopsy[\"DM_atp_c_\"]=3\n",
    "\n",
    "Recon2.objective=\"biomass_reaction\"\n"
   ]
  },
  {
   "cell_type": "code",
   "execution_count": 13,
   "metadata": {
    "collapsed": true
   },
   "outputs": [],
   "source": [
    "metas = ['adp_c', 'atp_c','glc_D_c',  'fru_c', 'nad_c', 'nadh_c','nad_m', 'nadh_m','nadph_c', 'nadph_m', 'nadp_c', 'nadp_m', 'cmp_c', 'HC00342_c', 'glcn_c', 'citr_L_c', 'glyb_c', 'icit_c', '3pg_c', 'accoa_m ->coa_m', 'akg_m', 'e4p_c', 'f6p_c', 'g3p_c', 'g6p_c', 'oaa_m', 'pep_c', 'pyr_c', 'r5p_c', 'succoa_m ->coa_m', 'ala_L_c', 'arg_L_c', 'asn_L_c', 'asp_L_c', 'val_L_c', 'adp_c', 'thr_L_c', 'leu_L_c', 'gln_L_c', 'glu_L_c', 'gly_c', 'pro_D_c', 'pro_L_c', 'ser_L_c', 'ctp_c', 'fdp_c','utp_c', 'pmtcoa_c -> coa_c', 'chsterol_c', 'dag_hs_c', 'tag_hs_c', 'mag_hs_c', 'gthox_c','gthrd_c','ru5p_D_c','crm_hs_c', 'pa_hs_c', 'pe_hs_c', 'ps_hs_c', 'hxan_c', 'creat_c', 'crtn_c', 'chol_c', 'orn_c', '4hpro_LT_c', 's7p_c', 'amp_c', 'udp_c', 'ade_c', 'asp_D_c', 'adn_c', 'ump_c', 'his_L_c', 'tyr_L_c', 'phe_L_c', 'gdp_c', 'ctp_c', 'cys_L_c', 'amet_c', 'cit_c', 'tym_c', 'succ_c', 'CE1936_c', 'gua_c', 'cdp_c', 'g1p_c', 'lys_L_c', 'bhb_c', 'ile_L_c', 'gmp_c', 'dhap_c', 'fum_c', 'mal_L_c', 'spmd_c', 'ala_B_c', 'trp_L_c', 'lac_L_c', 'met_L_c', 'ptrc_c', '4abut_c','0.014 biomass_DNA_c + 0.058 biomass_RNA_c + 0.071 biomass_carbohydrate_c + 0.097 biomass_lipid_c + 0.054 biomass_other_c + 0.706 biomass_protein_c --> ']"
   ]
  },
  {
   "cell_type": "code",
   "execution_count": 14,
   "metadata": {},
   "outputs": [
    {
     "ename": "ValueError",
     "evalue": "Not a valid confidence value!",
     "output_type": "error",
     "traceback": [
      "\u001b[0;31m---------------------------------------------------------------------------\u001b[0m",
      "\u001b[0;31mValueError\u001b[0m                                Traceback (most recent call last)",
      "\u001b[0;32m<timed exec>\u001b[0m in \u001b[0;36m<module>\u001b[0;34m()\u001b[0m\n",
      "\u001b[0;32m/opt/conda/lib/python3.5/site-packages/corda/corda.py\u001b[0m in \u001b[0;36m__init__\u001b[0;34m(self, model, confidence, met_prod, n, penalty_factor, support)\u001b[0m\n\u001b[1;32m    114\u001b[0m             \u001b[0;32mif\u001b[0m \u001b[0mr\u001b[0m\u001b[0;34m.\u001b[0m\u001b[0mid\u001b[0m \u001b[0;32min\u001b[0m \u001b[0mconfidence\u001b[0m\u001b[0;34m:\u001b[0m\u001b[0;34m\u001b[0m\u001b[0m\n\u001b[1;32m    115\u001b[0m                 \u001b[0;32mif\u001b[0m \u001b[0mconfidence\u001b[0m\u001b[0;34m[\u001b[0m\u001b[0mr\u001b[0m\u001b[0;34m.\u001b[0m\u001b[0mid\u001b[0m\u001b[0;34m]\u001b[0m \u001b[0;32mnot\u001b[0m \u001b[0;32min\u001b[0m \u001b[0;34m[\u001b[0m\u001b[0;34m-\u001b[0m\u001b[0;36m1\u001b[0m\u001b[0;34m,\u001b[0m \u001b[0;36m0\u001b[0m\u001b[0;34m,\u001b[0m \u001b[0;36m1\u001b[0m\u001b[0;34m,\u001b[0m \u001b[0;36m2\u001b[0m\u001b[0;34m,\u001b[0m \u001b[0;36m3\u001b[0m\u001b[0;34m]\u001b[0m\u001b[0;34m:\u001b[0m\u001b[0;34m\u001b[0m\u001b[0m\n\u001b[0;32m--> 116\u001b[0;31m                     \u001b[0;32mraise\u001b[0m \u001b[0mValueError\u001b[0m\u001b[0;34m(\u001b[0m\u001b[0;34m\"Not a valid confidence value!\"\u001b[0m\u001b[0;34m)\u001b[0m\u001b[0;34m\u001b[0m\u001b[0m\n\u001b[0m\u001b[1;32m    117\u001b[0m                 \u001b[0;32melse\u001b[0m\u001b[0;34m:\u001b[0m\u001b[0;34m\u001b[0m\u001b[0m\n\u001b[1;32m    118\u001b[0m                     \u001b[0mself\u001b[0m\u001b[0;34m.\u001b[0m\u001b[0mconf\u001b[0m\u001b[0;34m[\u001b[0m\u001b[0mr\u001b[0m\u001b[0;34m.\u001b[0m\u001b[0mid\u001b[0m\u001b[0;34m]\u001b[0m \u001b[0;34m=\u001b[0m \u001b[0mconfidence\u001b[0m\u001b[0;34m[\u001b[0m\u001b[0mr\u001b[0m\u001b[0;34m.\u001b[0m\u001b[0mid\u001b[0m\u001b[0;34m]\u001b[0m\u001b[0;34m\u001b[0m\u001b[0m\n",
      "\u001b[0;31mValueError\u001b[0m: Not a valid confidence value!"
     ]
    }
   ],
   "source": [
    "%%time\n",
    "\n",
    "from corda import CORDA\n",
    "\n",
    "opt_MeanCancerBiopsy = CORDA(model=Recon2, confidence=conf_MeanCancerBiopsy, n=10, met_prod=metas,  penalty_factor=100 ) \n",
    "opt_MeanCancerBiopsy.build()\n",
    "print(opt_MeanCancerBiopsy)\n",
    "model_MeanCancerBiopsy=opt_MeanCancerBiopsy.cobra_model(name=\"MeanCancerBiopsy\")\n",
    "print(model_MeanCancerBiopsy.optimize())"
   ]
  },
  {
   "cell_type": "code",
   "execution_count": 15,
   "metadata": {},
   "outputs": [
    {
     "ename": "NameError",
     "evalue": "name 'model_MeanCancerBiopsy' is not defined",
     "output_type": "error",
     "traceback": [
      "\u001b[0;31m---------------------------------------------------------------------------\u001b[0m",
      "\u001b[0;31mNameError\u001b[0m                                 Traceback (most recent call last)",
      "\u001b[0;32m<ipython-input-15-df9b175e60c0>\u001b[0m in \u001b[0;36m<module>\u001b[0;34m()\u001b[0m\n\u001b[0;32m----> 1\u001b[0;31m \u001b[0mmodel_MeanCancerBiopsy\u001b[0m\u001b[0;34m.\u001b[0m\u001b[0msummary\u001b[0m\u001b[0;34m(\u001b[0m\u001b[0mfva\u001b[0m\u001b[0;34m=\u001b[0m\u001b[0;32mTrue\u001b[0m\u001b[0;34m)\u001b[0m\u001b[0;34m\u001b[0m\u001b[0m\n\u001b[0m",
      "\u001b[0;31mNameError\u001b[0m: name 'model_MeanCancerBiopsy' is not defined"
     ]
    }
   ],
   "source": [
    "model_MeanCancerBiopsy.summary(fva=True)"
   ]
  },
  {
   "cell_type": "code",
   "execution_count": null,
   "metadata": {
    "collapsed": true
   },
   "outputs": [],
   "source": [
    "%%time\n",
    "\n",
    "from corda import CORDA\n",
    "\n",
    "\n",
    "opt_MeanNormalBiopsy = CORDA(model=Recon2, confidence=conf_MeanNormalBiopsy, n=10, met_prod=metas,  penalty_factor=100) \n",
    "opt_MeanNormalBiopsy.build()\n",
    "print(opt_MeanNormalBiopsy)\n",
    "model_MeanNormalBiopsy=opt_MeanNormalBiopsy.cobra_model(name=\"MeanNormalBiopsy\")\n",
    "print(model_MeanNormalBiopsy.optimize())"
   ]
  },
  {
   "cell_type": "code",
   "execution_count": null,
   "metadata": {
    "collapsed": true
   },
   "outputs": [],
   "source": [
    "model_MeanNormalBiopsy.summary(fva=True)"
   ]
  },
  {
   "cell_type": "code",
   "execution_count": null,
   "metadata": {
    "collapsed": true
   },
   "outputs": [],
   "source": [
    "cobra.io.write_sbml_model(model_MeanCancerBiopsy, \"Full_SCC_model_1218_western_diet_n10_pf100.sbml\")\n",
    "cobra.io.write_sbml_model(model_MeanNormalBiopsy, \"Full_Normal_model_1218_western_diet_n10_pf100.sbml\")"
   ]
  },
  {
   "cell_type": "code",
   "execution_count": null,
   "metadata": {
    "collapsed": true
   },
   "outputs": [],
   "source": [
    "import pandas as pd\n",
    "\n",
    "def get_drugable_targets(normal_Model, disease_Model, model_name,  eps=0.1):\n",
    "    Nids = [r.id for r in normal_Model.reactions]\n",
    "    Dids = [r.id for r in disease_Model.reactions]\n",
    "        \n",
    "    nmodel=normal_Model.copy()\n",
    "    dmodel=disease_Model.copy()\n",
    "\n",
    "    common_rxs = list(set(Nids) & set(Dids))\n",
    "    print(\"Common reactions size\",len(common_rxs))\n",
    "    unique_Nrx = list(set(Nids) - set(Dids))\n",
    "    print(\"Normal unique reactions size\",len(unique_Nrx))\n",
    "    unique_Drx = list(set(Dids) - set(Nids))\n",
    "    print(\"Disease unique reactions size\",len(unique_Drx))\n",
    "\n",
    "    nflx0=normal_Model.optimize().f\n",
    "    dflx0=disease_Model.optimize().f   \n",
    "\n",
    "        \n",
    "    results={}\n",
    "\n",
    "    for rx in common_rxs:\n",
    "        #print(rx)\n",
    "\n",
    "        nbounds=nmodel.reactions.get_by_id(rx).bounds\n",
    "        dbounds=dmodel.reactions.get_by_id(rx).bounds\n",
    "        \n",
    "        nmodel.reactions.get_by_id(rx).bounds=(-eps,eps)\n",
    "        dmodel.reactions.get_by_id(rx).bounds=(-eps,eps)\n",
    "                \n",
    "        nfba=nmodel.optimize()    \n",
    "        dfba=dmodel.optimize()\n",
    "        \n",
    "        nflx1=nfba.f\n",
    "        dflx1=dfba.f\n",
    "        \n",
    "        results[rx]={}\n",
    "        \n",
    "        results[rx][\"model\"]=model_name\n",
    "        results[rx][\"gene_rule\"]=nmodel.reactions.get_by_id(rx).gene_reaction_rule\n",
    "         \n",
    "        results[rx][\"norm_flux\"]=nflx0\n",
    "        results[rx][\"dise_flux\"]=dflx0 \n",
    "        \n",
    "        results[rx][\"del_norm_flux\"]=nflx1\n",
    "        results[rx][\"del_dise_flux\"]=dflx1 \n",
    "            \n",
    "       # results[rx][\"norm_prolif_ratio\"]=nflx1/nflx0\n",
    "        #results[rx][\"dise_prolif_ratio\"]=dflx1/dflx0\n",
    "        \n",
    "        #results[rx][\"norm_dise_ratio\"]=(nflx1/nflx0)/(dflx1/dflx0)\n",
    "        \n",
    "        nmodel.reactions.get_by_id(rx).bounds=nbounds\n",
    "        dmodel.reactions.get_by_id(rx).bounds=dbounds\n",
    "\n",
    "        \n",
    "    for rx in unique_Nrx:\n",
    "        #print(rx)\n",
    "        \n",
    "        nbounds=nmodel.reactions.get_by_id(rx).bounds\n",
    "        \n",
    "        nmodel.reactions.get_by_id(rx).bounds=(-eps,eps)      \n",
    "        \n",
    "        nfba=nmodel.optimize()    \n",
    "        \n",
    "        nflx1=nfba.f\n",
    "        \n",
    "        results[rx]={}\n",
    "        \n",
    "        results[rx][\"model\"]=model_name\n",
    "        results[rx][\"gene_rule\"]=nmodel.reactions.get_by_id(rx).gene_reaction_rule\n",
    "\n",
    "        results[rx][\"norm_flux\"]=nflx0\n",
    "        results[rx][\"dise_flux\"]=dflx0 \n",
    "        \n",
    "        results[rx][\"del_norm_flux\"]=nflx1\n",
    "        results[rx][\"del_dise_flux\"]=dflx0\n",
    "\n",
    "            \n",
    "       # results[rx][\"norm_prolif_ratio\"]=nflx1/nflx0\n",
    "       # results[rx][\"dise_prolif_ratio\"]=dflx0\n",
    "        \n",
    "       # results[rx][\"norm_dise_ratio\"]=nflx1/nflx0\n",
    "            \n",
    "        nmodel.reactions.get_by_id(rx).bounds=nbounds\n",
    "        \n",
    "    for rx in unique_Drx:\n",
    "        #print(rx)\n",
    "        \n",
    "        dbounds=dmodel.reactions.get_by_id(rx).bounds\n",
    "    \n",
    "        dmodel.reactions.get_by_id(rx).bounds=(-eps,eps)\n",
    "        dfba=dmodel.optimize()\n",
    "        dflx1=dfba.f\n",
    "        \n",
    "        results[rx]={}\n",
    "\n",
    "        results[rx][\"model\"]=model_name\n",
    "        results[rx][\"gene_rule\"]=dmodel.reactions.get_by_id(rx).gene_reaction_rule\n",
    "\n",
    "        results[rx][\"norm_flux\"]=nflx0\n",
    "        results[rx][\"dise_flux\"]=dflx0 \n",
    "        \n",
    "        results[rx][\"del_norm_flux\"]=nflx1\n",
    "        results[rx][\"del_dise_flux\"]=dflx1 \n",
    "\n",
    "        #results[rx][\"norm_prolif_ratio\"]=nflx0\n",
    "       # results[rx][\"dise_prolif_ratio\"]=dflx1/dflx0\n",
    "\n",
    "        \n",
    "       # results[rx][\"norm_dise_ratio\"]=1/(dflx1/dflx0)\n",
    "        \n",
    "        dmodel.reactions.get_by_id(rx).bounds=dbounds\n",
    "\n",
    "\n",
    "    return(pd.DataFrame(results).transpose())\n"
   ]
  },
  {
   "cell_type": "code",
   "execution_count": 3,
   "metadata": {},
   "outputs": [
    {
     "ename": "NameError",
     "evalue": "name 'get_drugable_targets' is not defined",
     "output_type": "error",
     "traceback": [
      "\u001b[0;31m---------------------------------------------------------------------------\u001b[0m",
      "\u001b[0;31mNameError\u001b[0m                                 Traceback (most recent call last)",
      "\u001b[0;32m<ipython-input-3-d8a72369d17a>\u001b[0m in \u001b[0;36m<module>\u001b[0;34m()\u001b[0m\n\u001b[0;32m----> 1\u001b[0;31m R_Biopsies=get_drugable_targets(\n\u001b[0m\u001b[1;32m      2\u001b[0m     \u001b[0mnormal_Model\u001b[0m\u001b[0;34m=\u001b[0m\u001b[0mmodel_MeanNormalBiopsy\u001b[0m\u001b[0;34m,\u001b[0m\u001b[0;34m\u001b[0m\u001b[0m\n\u001b[1;32m      3\u001b[0m     disease_Model=model_MeanCancerBiopsy, model_name=\"Biopsys\", eps=0.1)\n",
      "\u001b[0;31mNameError\u001b[0m: name 'get_drugable_targets' is not defined"
     ]
    }
   ],
   "source": [
    "R_Biopsies=get_drugable_targets(\n",
    "    normal_Model=model_MeanNormalBiopsy, \n",
    "    disease_Model=model_MeanCancerBiopsy, model_name=\"Biopsys\", eps=0.1)"
   ]
  },
  {
   "cell_type": "code",
   "execution_count": 4,
   "metadata": {},
   "outputs": [
    {
     "ename": "NameError",
     "evalue": "name 'R_Biopsies' is not defined",
     "output_type": "error",
     "traceback": [
      "\u001b[0;31m---------------------------------------------------------------------------\u001b[0m",
      "\u001b[0;31mNameError\u001b[0m                                 Traceback (most recent call last)",
      "\u001b[0;32m<ipython-input-4-c48cb8ff9e37>\u001b[0m in \u001b[0;36m<module>\u001b[0;34m()\u001b[0m\n\u001b[0;32m----> 1\u001b[0;31m \u001b[0mR_Biopsies\u001b[0m\u001b[0;34m[\u001b[0m\u001b[0;34m\"dise_prolif_ratio\"\u001b[0m\u001b[0;34m]\u001b[0m\u001b[0;34m=\u001b[0m\u001b[0mR_Biopsies\u001b[0m\u001b[0;34m[\u001b[0m\u001b[0;34m\"del_dise_flux\"\u001b[0m\u001b[0;34m]\u001b[0m\u001b[0;34m/\u001b[0m\u001b[0mR_Biopsies\u001b[0m\u001b[0;34m[\u001b[0m\u001b[0;34m\"dise_flux\"\u001b[0m\u001b[0;34m]\u001b[0m\u001b[0;34m\u001b[0m\u001b[0m\n\u001b[0m\u001b[1;32m      2\u001b[0m \u001b[0mR_Biopsies\u001b[0m\u001b[0;34m[\u001b[0m\u001b[0;34m\"norm_prolif_ratio\"\u001b[0m\u001b[0;34m]\u001b[0m\u001b[0;34m=\u001b[0m\u001b[0mR_Biopsies\u001b[0m\u001b[0;34m[\u001b[0m\u001b[0;34m\"del_norm_flux\"\u001b[0m\u001b[0;34m]\u001b[0m\u001b[0;34m/\u001b[0m\u001b[0mR_Biopsies\u001b[0m\u001b[0;34m[\u001b[0m\u001b[0;34m\"norm_flux\"\u001b[0m\u001b[0;34m]\u001b[0m\u001b[0;34m\u001b[0m\u001b[0m\n\u001b[1;32m      3\u001b[0m \u001b[0mR_Biopsies\u001b[0m\u001b[0;34m[\u001b[0m\u001b[0;34m\"total_ratio\"\u001b[0m\u001b[0;34m]\u001b[0m\u001b[0;34m=\u001b[0m\u001b[0mR_Biopsies\u001b[0m\u001b[0;34m[\u001b[0m\u001b[0;34m\"dise_prolif_ratio\"\u001b[0m\u001b[0;34m]\u001b[0m\u001b[0;34m/\u001b[0m\u001b[0mR_Biopsies\u001b[0m\u001b[0;34m[\u001b[0m\u001b[0;34m\"norm_prolif_ratio\"\u001b[0m\u001b[0;34m]\u001b[0m\u001b[0;34m\u001b[0m\u001b[0m\n",
      "\u001b[0;31mNameError\u001b[0m: name 'R_Biopsies' is not defined"
     ]
    }
   ],
   "source": [
    "R_Biopsies[\"dise_prolif_ratio\"]=R_Biopsies[\"del_dise_flux\"]/R_Biopsies[\"dise_flux\"]\n",
    "R_Biopsies[\"norm_prolif_ratio\"]=R_Biopsies[\"del_norm_flux\"]/R_Biopsies[\"norm_flux\"]\n",
    "R_Biopsies[\"total_ratio\"]=R_Biopsies[\"dise_prolif_ratio\"]/R_Biopsies[\"norm_prolif_ratio\"]\n"
   ]
  },
  {
   "cell_type": "code",
   "execution_count": 138,
   "metadata": {},
   "outputs": [
    {
     "data": {
      "text/html": [
       "<div>\n",
       "<style>\n",
       "    .dataframe thead tr:only-child th {\n",
       "        text-align: right;\n",
       "    }\n",
       "\n",
       "    .dataframe thead th {\n",
       "        text-align: left;\n",
       "    }\n",
       "\n",
       "    .dataframe tbody tr th {\n",
       "        vertical-align: top;\n",
       "    }\n",
       "</style>\n",
       "<table border=\"1\" class=\"dataframe\">\n",
       "  <thead>\n",
       "    <tr style=\"text-align: right;\">\n",
       "      <th></th>\n",
       "      <th>del_dise_flux</th>\n",
       "      <th>del_norm_flux</th>\n",
       "      <th>dise_flux</th>\n",
       "      <th>gene_rule</th>\n",
       "      <th>model</th>\n",
       "      <th>norm_flux</th>\n",
       "      <th>dise_prolif_ratio</th>\n",
       "      <th>norm_prolif_ratio</th>\n",
       "      <th>total_ratio</th>\n",
       "    </tr>\n",
       "  </thead>\n",
       "  <tbody>\n",
       "    <tr>\n",
       "      <th>GAPD</th>\n",
       "      <td>0.00914891</td>\n",
       "      <td>0.0223156</td>\n",
       "      <td>0.0562509</td>\n",
       "      <td>HGNC:24864 or HGNC:4141</td>\n",
       "      <td>Biopsys</td>\n",
       "      <td>0.0223156</td>\n",
       "      <td>0.162645</td>\n",
       "      <td>1</td>\n",
       "      <td>0.162645</td>\n",
       "    </tr>\n",
       "    <tr>\n",
       "      <th>ENO</th>\n",
       "      <td>0.00914891</td>\n",
       "      <td>0.0223156</td>\n",
       "      <td>0.0562509</td>\n",
       "      <td>HGNC:3350 or HGNC:3354 or HGNC:3354 or HGNC:3353</td>\n",
       "      <td>Biopsys</td>\n",
       "      <td>0.0223156</td>\n",
       "      <td>0.162645</td>\n",
       "      <td>1</td>\n",
       "      <td>0.162645</td>\n",
       "    </tr>\n",
       "    <tr>\n",
       "      <th>PGM</th>\n",
       "      <td>0.00914891</td>\n",
       "      <td>0.0223156</td>\n",
       "      <td>0.0562509</td>\n",
       "      <td>HGNC:1093 or HGNC:8888 or HGNC:8889</td>\n",
       "      <td>Biopsys</td>\n",
       "      <td>0.0223156</td>\n",
       "      <td>0.162645</td>\n",
       "      <td>1</td>\n",
       "      <td>0.162645</td>\n",
       "    </tr>\n",
       "    <tr>\n",
       "      <th>PGK</th>\n",
       "      <td>0.00914891</td>\n",
       "      <td>0.0223156</td>\n",
       "      <td>0.0562509</td>\n",
       "      <td>HGNC:8896 or HGNC:8898</td>\n",
       "      <td>Biopsys</td>\n",
       "      <td>0.0223156</td>\n",
       "      <td>0.162645</td>\n",
       "      <td>1</td>\n",
       "      <td>0.162645</td>\n",
       "    </tr>\n",
       "  </tbody>\n",
       "</table>\n",
       "</div>"
      ],
      "text/plain": [
       "     del_dise_flux del_norm_flux  dise_flux  \\\n",
       "GAPD    0.00914891     0.0223156  0.0562509   \n",
       "ENO     0.00914891     0.0223156  0.0562509   \n",
       "PGM     0.00914891     0.0223156  0.0562509   \n",
       "PGK     0.00914891     0.0223156  0.0562509   \n",
       "\n",
       "                                             gene_rule    model  norm_flux  \\\n",
       "GAPD                           HGNC:24864 or HGNC:4141  Biopsys  0.0223156   \n",
       "ENO   HGNC:3350 or HGNC:3354 or HGNC:3354 or HGNC:3353  Biopsys  0.0223156   \n",
       "PGM                HGNC:1093 or HGNC:8888 or HGNC:8889  Biopsys  0.0223156   \n",
       "PGK                             HGNC:8896 or HGNC:8898  Biopsys  0.0223156   \n",
       "\n",
       "     dise_prolif_ratio norm_prolif_ratio total_ratio  \n",
       "GAPD          0.162645                 1    0.162645  \n",
       "ENO           0.162645                 1    0.162645  \n",
       "PGM           0.162645                 1    0.162645  \n",
       "PGK           0.162645                 1    0.162645  "
      ]
     },
     "execution_count": 138,
     "metadata": {},
     "output_type": "execute_result"
    }
   ],
   "source": [
    "R_Biopsies[R_Biopsies[\"dise_prolif_ratio\"]<.999].sort_values(by=\"total_ratio\", ascending=True)\n"
   ]
  },
  {
   "cell_type": "code",
   "execution_count": 100,
   "metadata": {},
   "outputs": [
    {
     "ename": "AttributeError",
     "evalue": "DictList has no attribute or entry CMPSAS",
     "output_type": "error",
     "traceback": [
      "\u001b[0;31m---------------------------------------------------------------------------\u001b[0m",
      "\u001b[0;31mKeyError\u001b[0m                                  Traceback (most recent call last)",
      "\u001b[0;32m/opt/conda/lib/python3.5/site-packages/cobra/core/dictlist.py\u001b[0m in \u001b[0;36m__getattr__\u001b[0;34m(self, attr)\u001b[0m\n\u001b[1;32m    447\u001b[0m         \u001b[0;32mtry\u001b[0m\u001b[0;34m:\u001b[0m\u001b[0;34m\u001b[0m\u001b[0m\n\u001b[0;32m--> 448\u001b[0;31m             \u001b[0;32mreturn\u001b[0m \u001b[0mDictList\u001b[0m\u001b[0;34m.\u001b[0m\u001b[0mget_by_id\u001b[0m\u001b[0;34m(\u001b[0m\u001b[0mself\u001b[0m\u001b[0;34m,\u001b[0m \u001b[0mattr\u001b[0m\u001b[0;34m)\u001b[0m\u001b[0;34m\u001b[0m\u001b[0m\n\u001b[0m\u001b[1;32m    449\u001b[0m         \u001b[0;32mexcept\u001b[0m \u001b[0mKeyError\u001b[0m\u001b[0;34m:\u001b[0m\u001b[0;34m\u001b[0m\u001b[0m\n",
      "\u001b[0;32m/opt/conda/lib/python3.5/site-packages/cobra/core/dictlist.py\u001b[0m in \u001b[0;36mget_by_id\u001b[0;34m(self, id)\u001b[0m\n\u001b[1;32m     53\u001b[0m         \u001b[0;34m\"\"\"return the element with a matching id\"\"\"\u001b[0m\u001b[0;34m\u001b[0m\u001b[0m\n\u001b[0;32m---> 54\u001b[0;31m         \u001b[0;32mreturn\u001b[0m \u001b[0mlist\u001b[0m\u001b[0;34m.\u001b[0m\u001b[0m__getitem__\u001b[0m\u001b[0;34m(\u001b[0m\u001b[0mself\u001b[0m\u001b[0;34m,\u001b[0m \u001b[0mself\u001b[0m\u001b[0;34m.\u001b[0m\u001b[0m_dict\u001b[0m\u001b[0;34m[\u001b[0m\u001b[0mid\u001b[0m\u001b[0;34m]\u001b[0m\u001b[0;34m)\u001b[0m\u001b[0;34m\u001b[0m\u001b[0m\n\u001b[0m\u001b[1;32m     55\u001b[0m \u001b[0;34m\u001b[0m\u001b[0m\n",
      "\u001b[0;31mKeyError\u001b[0m: 'CMPSAS'",
      "\nDuring handling of the above exception, another exception occurred:\n",
      "\u001b[0;31mAttributeError\u001b[0m                            Traceback (most recent call last)",
      "\u001b[0;32m<ipython-input-100-8c2bb1473fe9>\u001b[0m in \u001b[0;36m<module>\u001b[0;34m()\u001b[0m\n\u001b[1;32m      1\u001b[0m \u001b[0mcp_model_MeanCancerBiopsy\u001b[0m\u001b[0;34m=\u001b[0m\u001b[0mmodel_MeanCancerBiopsy\u001b[0m\u001b[0;34m.\u001b[0m\u001b[0mcopy\u001b[0m\u001b[0;34m(\u001b[0m\u001b[0;34m)\u001b[0m\u001b[0;34m\u001b[0m\u001b[0m\n\u001b[0;32m----> 2\u001b[0;31m \u001b[0mcp_model_MeanCancerBiopsy\u001b[0m\u001b[0;34m.\u001b[0m\u001b[0mreactions\u001b[0m\u001b[0;34m.\u001b[0m\u001b[0mCMPSAS\u001b[0m\u001b[0;34m.\u001b[0m\u001b[0mbounds\u001b[0m\u001b[0;34m=\u001b[0m\u001b[0;34m(\u001b[0m\u001b[0;34m-\u001b[0m\u001b[0;36m0.1\u001b[0m\u001b[0;34m,\u001b[0m\u001b[0;36m0.1\u001b[0m\u001b[0;34m)\u001b[0m\u001b[0;34m\u001b[0m\u001b[0m\n\u001b[0m\u001b[1;32m      3\u001b[0m \u001b[0mprint\u001b[0m\u001b[0;34m(\u001b[0m\u001b[0mcp_model_MeanCancerBiopsy\u001b[0m\u001b[0;34m.\u001b[0m\u001b[0moptimize\u001b[0m\u001b[0;34m(\u001b[0m\u001b[0;34m)\u001b[0m\u001b[0;34m)\u001b[0m\u001b[0;34m\u001b[0m\u001b[0m\n\u001b[1;32m      4\u001b[0m \u001b[0mprint\u001b[0m\u001b[0;34m(\u001b[0m\u001b[0mmodel_MeanCancerBiopsy\u001b[0m\u001b[0;34m.\u001b[0m\u001b[0moptimize\u001b[0m\u001b[0;34m(\u001b[0m\u001b[0;34m)\u001b[0m\u001b[0;34m)\u001b[0m\u001b[0;34m\u001b[0m\u001b[0m\n",
      "\u001b[0;32m/opt/conda/lib/python3.5/site-packages/cobra/core/dictlist.py\u001b[0m in \u001b[0;36m__getattr__\u001b[0;34m(self, attr)\u001b[0m\n\u001b[1;32m    449\u001b[0m         \u001b[0;32mexcept\u001b[0m \u001b[0mKeyError\u001b[0m\u001b[0;34m:\u001b[0m\u001b[0;34m\u001b[0m\u001b[0m\n\u001b[1;32m    450\u001b[0m             raise AttributeError(\"DictList has no attribute or entry %s\" %\n\u001b[0;32m--> 451\u001b[0;31m                                  attr)\n\u001b[0m\u001b[1;32m    452\u001b[0m \u001b[0;34m\u001b[0m\u001b[0m\n\u001b[1;32m    453\u001b[0m     \u001b[0;32mdef\u001b[0m \u001b[0m__dir__\u001b[0m\u001b[0;34m(\u001b[0m\u001b[0mself\u001b[0m\u001b[0;34m)\u001b[0m\u001b[0;34m:\u001b[0m\u001b[0;34m\u001b[0m\u001b[0m\n",
      "\u001b[0;31mAttributeError\u001b[0m: DictList has no attribute or entry CMPSAS"
     ]
    }
   ],
   "source": [
    "cp_model_MeanCancerBiopsy=model_MeanCancerBiopsy.copy()\n",
    "cp_model_MeanCancerBiopsy.reactions.CMPSAS.bounds=(-0.1,0.1)\n",
    "print(cp_model_MeanCancerBiopsy.optimize())\n",
    "print(model_MeanCancerBiopsy.optimize())"
   ]
  },
  {
   "cell_type": "code",
   "execution_count": 101,
   "metadata": {},
   "outputs": [
    {
     "name": "stdout",
     "output_type": "stream",
     "text": [
      "<Solution 0.100 at 0x7f3c046d66d8>\n",
      "<Solution 0.071 at 0x7f3c046d6668>\n"
     ]
    }
   ],
   "source": [
    "cp_model_MeanNormalBiopsy=model_MeanNormalBiopsy.copy()\n",
    "cp_model_MeanNormalBiopsy.reactions.CMPSAS.bounds=(-0.1,0.1)\n",
    "print(cp_model_MeanNormalBiopsy.optimize())\n",
    "print(model_MeanNormalBiopsy.optimize())"
   ]
  },
  {
   "cell_type": "code",
   "execution_count": null,
   "metadata": {
    "collapsed": true
   },
   "outputs": [],
   "source": []
  },
  {
   "cell_type": "code",
   "execution_count": null,
   "metadata": {
    "collapsed": true
   },
   "outputs": [],
   "source": [
    "import random\n",
    "import numpy\n",
    "\n",
    "\n",
    "def shuffle(conf):\n",
    "    lst = [x for x in range(0,len(conf.items()))]\n",
    "\n",
    "    random.shuffle(lst)\n",
    "    return lst\n",
    "\n",
    "def randomize_model(conf_scores):\n",
    "    lst=shuffle(conf_scores)\n",
    "    a=numpy.array(lst)\n",
    "    (rxindex,rxvalues) = zip(*conf_scores.items())\n",
    "    rxvalues=numpy.array(rxvalues)\n",
    "\n",
    "    nrxval=rxvalues[a]\n",
    "\n",
    "    dictionary = dict(zip(list(rxindex), list(nrxval)))\n",
    "    return(dictionary)\n",
    "\n",
    "\n"
   ]
  },
  {
   "cell_type": "code",
   "execution_count": null,
   "metadata": {
    "collapsed": true
   },
   "outputs": [],
   "source": [
    "for model in ub_scores_matrix.columns:\n",
    "    #High Confidence rate \n",
    "       \n",
    "    HC=ub_scores_matrix[model][ub_scores_matrix[model] >= 0.9].index.tolist()\n",
    "    confidence_scores_matrix[model][HC]=3\n",
    "        \n",
    "    #Medium Confidence Rate \n",
    "    MC=ub_scores_matrix[model][(ub_scores_matrix[model] <  0.9) & (ub_scores_matrix[model] >= 0.7) ].index.tolist()\n",
    "    confidence_scores_matrix[model][MC]=2\n",
    "        \n",
    "    #Low\n",
    "    LC=ub_scores_matrix[model][(ub_scores_matrix[model] < 0.7) & (ub_scores_matrix[model] >=0.5) ].index.tolist()\n",
    "    confidence_scores_matrix[model][LC]=1\n",
    "    \n",
    "    #unknown\n",
    "    ZC=ub_scores_matrix[model][(ub_scores_matrix[model] <.5) & (ub_scores_matrix[model] >= 0.3) ].index.tolist()\n",
    "    confidence_scores_matrix[model][ZC]=0\n",
    "    \n",
    "    #Negative\n",
    "    NC=ub_scores_matrix[model][(ub_scores_matrix[model] < 0.3)].index.tolist()\n",
    "    confidence_scores_matrix[model][NC]=-1\n",
    " "
   ]
  },
  {
   "cell_type": "code",
   "execution_count": null,
   "metadata": {
    "collapsed": true
   },
   "outputs": [],
   "source": [
    "import multiprocessing as mp\n",
    "from corda import CORDA\n",
    "import string\n",
    "\n",
    "output = mp.Queue(maxsize=24)\n",
    "\n",
    "# define a example function\n",
    "def multiple_randomized_analysis(modelC, modelN, Recon, pos):\n",
    "    cConf_scores=randomize_model(modelC)\n",
    "    nConf_scores=randomize_model(modelN)\n",
    "\n",
    "\n",
    "    cConf_scores[\"biomass_reaction\"]=3\n",
    "    cConf_scores[\"biomass_DNA\"]=3\n",
    "    cConf_scores[\"biomass_RNA\"]=3\n",
    "    cConf_scores[\"biomass_carbohydrate\"]=3\n",
    "    cConf_scores[\"biomass_lipid\"]=3\n",
    "    cConf_scores[\"biomass_other\"]=3\n",
    "    cConf_scores[\"biomass_protein\"]=3\n",
    "    cConf_scores[\"DM_atp_c_\"]=3\n",
    "\n",
    "    nConf_scores[\"biomass_reaction\"]=3\n",
    "    nConf_scores[\"biomass_DNA\"]=3\n",
    "    nConf_scores[\"biomass_RNA\"]=3\n",
    "    nConf_scores[\"biomass_carbohydrate\"]=3\n",
    "    nConf_scores[\"biomass_lipid\"]=3\n",
    "    nConf_scores[\"biomass_other\"]=3\n",
    "    nConf_scores[\"biomass_protein\"]=3\n",
    "    nConf_scores[\"DM_atp_c_\"]=3\n",
    "    \n",
    "    Recon.objective=\"biomass_reaction\"\n",
    "    \n",
    "    metas = ['adp_c', 'atp_c','glc_D_c',  'fru_c', 'nad_c', 'nadh_c','nad_m', 'nadh_m','nadph_c', 'nadph_m', 'nadp_c', 'nadp_m', 'cmp_c', 'HC00342_c', 'glcn_c', 'citr_L_c', 'glyb_c', 'icit_c', '3pg_c', 'accoa_m ->coa_m', 'akg_m', 'e4p_c', 'f6p_c', 'g3p_c', 'g6p_c', 'oaa_m', 'pep_c', 'pyr_c', 'r5p_c', 'succoa_m ->coa_m', 'ala_L_c', 'arg_L_c', 'asn_L_c', 'asp_L_c', 'val_L_c', 'adp_c', 'thr_L_c', 'leu_L_c', 'gln_L_c', 'glu_L_c', 'gly_c', 'pro_D_c', 'pro_L_c', 'ser_L_c', 'ctp_c', 'fdp_c','utp_c', 'pmtcoa_c -> coa_c', 'chsterol_c', 'dag_hs_c', 'tag_hs_c', 'mag_hs_c', 'gthox_c','gthrd_c','ru5p_D_c','crm_hs_c', 'pa_hs_c', 'pe_hs_c', 'ps_hs_c', 'hxan_c', 'creat_c', 'crtn_c', 'chol_c', 'orn_c', '4hpro_LT_c', 's7p_c', 'amp_c', 'udp_c', 'ade_c', 'asp_D_c', 'adn_c', 'ump_c', 'his_L_c', 'tyr_L_c', 'phe_L_c', 'gdp_c', 'ctp_c', 'cys_L_c', 'amet_c', 'cit_c', 'tym_c', 'succ_c', 'CE1936_c', 'gua_c', 'cdp_c', 'g1p_c', 'lys_L_c', 'bhb_c', 'ile_L_c', 'gmp_c', 'dhap_c', 'fum_c', 'mal_L_c', 'spmd_c', 'ala_B_c', 'trp_L_c', 'lac_L_c', 'met_L_c', 'ptrc_c', '4abut_c','0.014 biomass_DNA_c + 0.058 biomass_RNA_c + 0.071 biomass_carbohydrate_c + 0.097 biomass_lipid_c + 0.054 biomass_other_c + 0.706 biomass_protein_c --> ']    \n",
    "\n",
    "    opt_c= CORDA(model=Recon, confidence=cConf_scores, n=5, met_prod=metas,  penalty_factor=1000 ) \n",
    "    opt_n= CORDA(model=Recon, confidence=nConf_scores, n=5, met_prod=metas,  penalty_factor=1000 ) \n",
    "    opt_c.build()\n",
    "    opt_n.build()\n",
    "    model_c=opt_c.cobra_model(name=\"C\")\n",
    "    model_n=opt_n.cobra_model(name=\"N\")\n",
    "     \n",
    "    targets=get_drugable_targets(model_n, model_c, \"biopsys\" )\n",
    "    f=\"Targets_pf_1000_Biopsys_\" + str(pos) + \".tsv\"                                                                  \n",
    "    targets.to_csv(f)\n",
    "\n",
    "# Setup a list of processes that we want to run\n",
    "pool = mp.Pool(processes=24)\n",
    "\n",
    "for i in range(1,101):\n",
    "    pool.apply_async(multiple_randomized_analysis, args=(conf_MeanCancerBiopsy,conf_MeanNormalBiopsy,Recon2,i))\n",
    "\n",
    "pool.close()\n",
    "pool.join()\n"
   ]
  },
  {
   "cell_type": "markdown",
   "metadata": {},
   "source": [
    "from corda import CORDA\n",
    "\n",
    "def randomized_analysis(modelC, modelN, Recon):\n",
    "    cConf_scores=randomize_model(modelC)\n",
    "    nConf_scores=randomize_model(modelN)\n",
    "    \n",
    "    metas = ['adp_c', 'atp_c','glc_D_c',  'fru_c', 'nad_c', 'nadh_c','nad_m', 'nadh_m','nadph_c', 'nadph_m', 'nadp_c', 'nadp_m', 'cmp_c', 'HC00342_c', 'glcn_c', 'citr_L_c', 'glyb_c', 'icit_c', '3pg_c', 'accoa_m ->coa_m', 'akg_m', 'e4p_c', 'f6p_c', 'g3p_c', 'g6p_c', 'oaa_m', 'pep_c', 'pyr_c', 'r5p_c', 'succoa_m ->coa_m', 'ala_L_c', 'arg_L_c', 'asn_L_c', 'asp_L_c', 'val_L_c', 'adp_c', 'thr_L_c', 'leu_L_c', 'gln_L_c', 'glu_L_c', 'gly_c', 'pro_D_c', 'pro_L_c', 'ser_L_c', 'ctp_c', 'fdp_c','utp_c', 'pmtcoa_c -> coa_c', 'chsterol_c', 'dag_hs_c', 'tag_hs_c', 'mag_hs_c', 'gthox_c','gthrd_c','ru5p_D_c','crm_hs_c', 'pa_hs_c', 'pe_hs_c', 'ps_hs_c', 'hxan_c', 'creat_c', 'crtn_c', 'chol_c', 'orn_c', '4hpro_LT_c', 's7p_c', 'amp_c', 'udp_c', 'ade_c', 'asp_D_c', 'adn_c', 'ump_c', 'his_L_c', 'tyr_L_c', 'phe_L_c', 'gdp_c', 'ctp_c', 'cys_L_c', 'amet_c', 'cit_c', 'tym_c', 'succ_c', 'CE1936_c', 'gua_c', 'cdp_c', 'g1p_c', 'lys_L_c', 'bhb_c', 'ile_L_c', 'gmp_c', 'dhap_c', 'fum_c', 'mal_L_c', 'spmd_c', 'ala_B_c', 'trp_L_c', 'lac_L_c', 'met_L_c', 'ptrc_c', '4abut_c','0.014 biomass_DNA_c + 0.058 biomass_RNA_c + 0.071 biomass_carbohydrate_c + 0.097 biomass_lipid_c + 0.054 biomass_other_c + 0.706 biomass_protein_c --> ']    \n",
    " \n",
    "    opt_c= CORDA(model=Recon, confidence=cConf_scores, n=5, met_prod=metas,  penalty_factor=2500 ) \n",
    "    opt_n= CORDA(model=Recon, confidence=nConf_scores, n=5, met_prod=metas,  penalty_factor=2500 ) \n",
    "    opt_c.build()\n",
    "    opt_n.build()\n",
    "    model_c=opt_c.cobra_model(name=\"C\")\n",
    "    model_n=opt_n.cobra_model(name=\"N\")\n",
    "\n",
    "    targets=get_drugable_targets(model_n, model_c, \"biopsys\" )\n",
    "    targets.to_csv(\"Targets.tsv\",sep=\"\\t\")\n",
    "    targets=targets[ (targets[\"norm_dise_ratio\"] > 1.000001) ].sort_values(by=\"norm_dise_ratio\", ascending=False)\n",
    "    targets.to_csv(\"Targets2_pf_2500.tsv\",sep=\"\\t\")\n",
    "\n",
    "    \n",
    "randomized_analysis(modelC=conf_CancerBiopsy,  modelN=conf_NormalBiopsy, Recon=Recon2)\n"
   ]
  },
  {
   "cell_type": "code",
   "execution_count": null,
   "metadata": {
    "collapsed": true
   },
   "outputs": [],
   "source": [
    "%matplotlib inline\n",
    "\n",
    "from mpl_toolkits import mplot3d\n",
    "import numpy as np\n",
    "import matplotlib.pyplot as plt\n",
    "\n",
    "fig = plt.figure()\n",
    "ax = plt.axes(projection='3d')\n",
    "\n",
    "ax = plt.axes(projection='3d')\n",
    "\n",
    "# Data for a three-dimensional line\n",
    "zline = np.linspace(0, 15, 1000)\n",
    "xline = np.sin(zline)\n",
    "yline = np.cos(zline)\n",
    "ax.plot3D(xline, yline, zline, 'gray')\n",
    "\n",
    "# Data for three-dimensional scattered points\n",
    "zdata = 15 * np.random.random(100)\n",
    "xdata = np.sin(zdata) + 0.1 * np.random.randn(100)\n",
    "ydata = np.cos(zdata) + 0.1 * np.random.randn(100)\n",
    "ax.scatter3D(xdata, ydata, zdata, c=zdata, cmap='Greens');"
   ]
  },
  {
   "cell_type": "code",
   "execution_count": null,
   "metadata": {
    "collapsed": true
   },
   "outputs": [],
   "source": [
    "def f(x, y):\n",
    "    return np.sin(np.sqrt(x ** 2 + y ** 2))\n",
    "\n",
    "x = np.linspace(-6, 6, 30)\n",
    "y = np.linspace(-6, 6, 30)\n",
    "\n",
    "X, Y = np.meshgrid(x, y)\n",
    "Z = f(X, Y)\n",
    "fig = plt.figure()\n",
    "ax = plt.axes(projection='3d')\n",
    "ax.contour3D(X, Y, Z, 50, cmap='binary')\n",
    "ax.set_xlabel('x')\n",
    "ax.set_ylabel('y')\n",
    "ax.set_zlabel('z');\n"
   ]
  },
  {
   "cell_type": "code",
   "execution_count": null,
   "metadata": {
    "collapsed": true
   },
   "outputs": [],
   "source": [
    "import pandas as pd\n",
    " "
   ]
  },
  {
   "cell_type": "code",
   "execution_count": null,
   "metadata": {
    "collapsed": true
   },
   "outputs": [],
   "source": []
  }
 ],
 "metadata": {
  "kernelspec": {
   "display_name": "Python 3",
   "language": "python",
   "name": "python3"
  },
  "language_info": {
   "codemirror_mode": {
    "name": "ipython",
    "version": 3
   },
   "file_extension": ".py",
   "mimetype": "text/x-python",
   "name": "python",
   "nbconvert_exporter": "python",
   "pygments_lexer": "ipython3",
   "version": "3.5.3"
  }
 },
 "nbformat": 4,
 "nbformat_minor": 2
}
